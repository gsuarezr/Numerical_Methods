{
 "cells": [
  {
   "cell_type": "markdown",
   "id": "752c5aa8",
   "metadata": {},
   "source": [
    "In this notebook we want to find the zeros of a function, meaning we want to find x such that f(x)=0, whenever we want to take a look at roots or zeros it's a good idea to visualize the function in the neiborhood we are looking for zeros in. Let us consider one particular example. Let \n",
    "\n",
    "\\begin{equation}\n",
    "f(x)=e^{x^{2}} cos(4x)\n",
    "\\end{equation}\n",
    "\n",
    "Let us go and try to find the zeros of said function, as a first step let us define the function, our region of interest (where we'll look for zeros) and plot it"
   ]
  },
  {
   "cell_type": "code",
   "execution_count": 47,
   "id": "801fc9f6-9cc9-49d1-9eeb-4e4516692248",
   "metadata": {},
   "outputs": [],
   "source": [
    "function x =f(x)\n",
    "% This function calculates e^{x^{2}} cos(4x), the input x can be a scalar or an array\n",
    "    x=exp(x.^2).*cos(4*x);\n",
    "endfunction"
   ]
  },
  {
   "cell_type": "code",
   "execution_count": 48,
   "id": "1e2a8420-44ea-466f-bc47-404c0620ba65",
   "metadata": {},
   "outputs": [],
   "source": [
    "x=-0:0.01:2;# We define the interval where will be looking for zeros "
   ]
  },
  {
   "cell_type": "code",
   "execution_count": 49,
   "id": "8425af0c-4601-4965-a12c-450abd372e9b",
   "metadata": {},
   "outputs": [
    {
     "data": {
      "image/png": "[encoded data removed]",
      "text/plain": [
       "<IPython.core.display.Image object>"
      ]
     },
     "metadata": {},
     "output_type": "display_data"
    }
   ],
   "source": [
    "y=f(x);\n",
    "hold on,plot(x,y,'r')\n",
    "line(\"xdata\",[0,2], \"ydata\",[0,0], \"linewidth\", 3)\n",
    "plot(x,y,'.')"
   ]
  },
  {
   "cell_type": "markdown",
   "id": "3164a874",
   "metadata": {},
   "source": [
    "From the plot we can tell that there seems to be 3 zeros in this region, one around 0.4, one around 1.2 and one around 2  A brute force algorithm is to run through all points in our region of interest and check if one point is below the x axis and if the next point is above the x axis, or the other way around. if that happens then y is zero between those 2 points\n",
    "\n",
    "At each stage we want to check if $y_{i}<0$ and $y_{i+1}>0$ (or the other way around). for both checks is $y_{i}y_{i+1}<0$. If so, then y is 0 between $x_i$ and $x_{i+1}$. Assuming a linear variation of the funcion f between $x_{i}$ and $x_{i+1}$, we have the approximation\n",
    "\n",
    "$f(x)\\approx \\frac{y_{i+1}−y_{i}}{x_{i+1}−x_{i}}(x−xi)+ y_i$\n",
    "\n",
    "We may solve for x when $f(x)=0$ such that we obtain:\n",
    "\n",
    "$x=x_{i}− \\frac{x_{i+1}−x_{i}}{y_{i+1}−y_{i}} yi$\n",
    "\n",
    "Then for the algorithm we simply check whether the condition is fulfilled, if it is then we compute x using our grid and stop searching for roots. A naive implementation of the method can be found below"
   ]
  },
  {
   "cell_type": "code",
   "execution_count": 50,
   "id": "c3f911fe-0c2f-428c-b03e-1c4ccaf08748",
   "metadata": {},
   "outputs": [
    {
     "name": "stdout",
     "output_type": "stream",
     "text": [
      "Found a root at x=0.392699\r\n"
     ]
    }
   ],
   "source": [
    "x = linspace(0, 0.5, 100001);\n",
    "y = f(x);\n",
    "\n",
    "root = NaN;  % Initialization value\n",
    "for i = 1:(length(x)-1) \n",
    "    if y(i)*y(i+1) < 0\n",
    "         root = x(i) - (x(i+1) - x(i))/(y(i+1) - y(i))*y(i);\n",
    "         break;  % Jump out of loop\n",
    "    end\n",
    "end\n",
    "if isnan(root)\n",
    "    fprintf('Could not find any root in the interval [%g, %g]\\n', x(1), x(end));\n",
    "else\n",
    "    fprintf('Found a root at x=%g\\n', root);\n",
    "end"
   ]
  },
  {
   "cell_type": "code",
   "execution_count": null,
   "id": "0877dc7e",
   "metadata": {},
   "outputs": [],
   "source": []
  },
  {
   "cell_type": "code",
   "execution_count": 57,
   "id": "6d31d663-90c0-474a-bc59-bc860a8b408f",
   "metadata": {},
   "outputs": [],
   "source": [
    "function all_roots = brute_force(f,a, b, n)\n",
    "    x = linspace(a, b, n);\n",
    "    y = f(x);\n",
    "    roots = [];\n",
    "    for i = 1:(n-1)\n",
    "        if y(i)*y(i+1) < 0\n",
    "            root = x(i) - (x(i+1) - x(i))/(y(i+1) - y(i))*y(i);\n",
    "            roots = [roots; root];\n",
    "        end\n",
    "    end\n",
    "    if isempty(roots)\n",
    "    fprintf('Could not find any root in the interval [%g, %g]\\n', x(1), x(end));\n",
    "    else\n",
    "    fprintf('Found a root at x=%g\\n', roots);\n",
    "    end\n",
    "    all_roots = roots;\n",
    "end"
   ]
  },
  {
   "cell_type": "code",
   "execution_count": 59,
   "id": "7f99feb2",
   "metadata": {},
   "outputs": [
    {
     "name": "stdout",
     "output_type": "stream",
     "text": [
      "Found a root at x=0.392699\r\n",
      "Found a root at x=1.1781\r\n",
      "Found a root at x=1.9635\r\n",
      "ans =\r\n",
      "\r\n",
      "   0.39270\r\n",
      "   1.17810\r\n",
      "   1.96350\r\n",
      "\r\n"
     ]
    }
   ],
   "source": [
    "brute_force(@f,0,2, 10000)"
   ]
  },
  {
   "cell_type": "code",
   "execution_count": 60,
   "id": "f9e1bbec-4130-4410-b215-e92a971271a0",
   "metadata": {},
   "outputs": [],
   "source": [
    "function result =f2(x)\n",
    "    result=x.^2 .- 9;\n",
    "end"
   ]
  },
  {
   "cell_type": "code",
   "execution_count": 62,
   "id": "d565779e",
   "metadata": {},
   "outputs": [
    {
     "name": "stdout",
     "output_type": "stream",
     "text": [
      "Found a root at x=3\r\n",
      "ans =  3.0000\r\n"
     ]
    }
   ],
   "source": [
    "brute_force(@f2,0,4, 10000)"
   ]
  },
  {
   "cell_type": "code",
   "execution_count": 157,
   "id": "3b6e4406-f8c6-4b56-80ca-c9a560546217",
   "metadata": {},
   "outputs": [
    {
     "data": {
      "image/png": "[encoded data removed]",
      "text/plain": [
       "<IPython.core.display.Image object>"
      ]
     },
     "metadata": {},
     "output_type": "display_data"
    }
   ],
   "source": [
    "plot(x,f2(x))"
   ]
  },
  {
   "cell_type": "code",
   "execution_count": 161,
   "id": "203e4df1-4852-482b-83ae-8c6f4c8404fc",
   "metadata": {},
   "outputs": [
    {
     "name": "stdout",
     "output_type": "stream",
     "text": [
      "roots =  3\n"
     ]
    }
   ],
   "source": [
    "roots=brute_force(0,4,100001)"
   ]
  },
  {
   "cell_type": "code",
   "execution_count": 70,
   "id": "ddbfb036-428b-4e67-bfb7-a2232094aaa0",
   "metadata": {},
   "outputs": [
    {
     "name": "stdout",
     "output_type": "stream",
     "text": [
      "ans =  0.000000052503\n"
     ]
    }
   ],
   "source": [
    "f(roots(3))"
   ]
  },
  {
   "cell_type": "code",
   "execution_count": 162,
   "id": "7b43cdd5-0aa0-4da0-b1a4-d246cdf63934",
   "metadata": {},
   "outputs": [],
   "source": [
    "function result = dfdx(x)\n",
    "    result=2*x;\n",
    "end"
   ]
  },
  {
   "cell_type": "code",
   "execution_count": 163,
   "id": "8dcefafd-9b26-4c5e-96b1-226eb5902912",
   "metadata": {},
   "outputs": [],
   "source": [
    "function x =f(x)\n",
    "    x=x.^2 .-9;\n",
    "endfunction"
   ]
  },
  {
   "cell_type": "code",
   "execution_count": 175,
   "id": "7dc5cff1-115a-4d5c-b6c7-dbe86dd641c4",
   "metadata": {},
   "outputs": [],
   "source": [
    "function [result,c] = naive_Newton(starting_value,eps)\n",
    "    x = starting_value;\n",
    "    c=0;\n",
    "    while abs(f(x)) > eps\n",
    "        x = x - f(x)/df(x);\n",
    "        c+=1;\n",
    "    end\n",
    "    result = x;\n",
    "end"
   ]
  },
  {
   "cell_type": "code",
   "execution_count": 173,
   "id": "c83f0465-0305-4f29-989d-39ab5def9668",
   "metadata": {},
   "outputs": [],
   "source": [
    "function y=f(x)\n",
    "y=x^2 + 1;\n",
    "endfunction"
   ]
  },
  {
   "cell_type": "code",
   "execution_count": 174,
   "id": "403fe981-8372-43a8-820f-0e48d6220f74",
   "metadata": {},
   "outputs": [],
   "source": [
    "function yprime = df(x)\n",
    "yprime = 2 * x; #exp(x^2) * (x * cos (4 * x) - 2 * sin (4 * x));\n",
    "endfunction"
   ]
  },
  {
   "cell_type": "code",
   "execution_count": null,
   "id": "c953bb4c-9ad0-4cf9-8813-f0ab78fdd559",
   "metadata": {},
   "outputs": [],
   "source": [
    "[result,c]=naive_Newton(0.1,eps=0.000001)"
   ]
  },
  {
   "cell_type": "code",
   "execution_count": 172,
   "id": "7fae64ce-b684-4e4a-a2ce-3b909eeda046",
   "metadata": {},
   "outputs": [
    {
     "name": "stdout",
     "output_type": "stream",
     "text": [
      "ans =  0.00000012098\n"
     ]
    }
   ],
   "source": [
    "f(result)"
   ]
  },
  {
   "cell_type": "code",
   "execution_count": 143,
   "id": "5eab3352-5e6b-414c-ae4d-eab367b9dbc1",
   "metadata": {},
   "outputs": [],
   "source": [
    "function [result1, result2] = bisection(f, x_L, x_R, eps)\n",
    "    if f(x_L)*f(x_R) > 0\n",
    "        fprintf('Error! Function does not have opposite\\n');\n",
    "        fprintf('signs at interval endpoints!')\n",
    "        exit(1)\n",
    "    end\n",
    "    x_M = (x_L + x_R)/2.0;\n",
    "    f_M = f(x_M);\n",
    "    iteration_counter = 1;\n",
    "    while abs(f_M) > eps\n",
    "        left_f = f(x_L);\n",
    "        right_f = f(x_R);\n",
    "        if left_f*f_M > 0   % i.e., same sign\n",
    "            x_L = x_M;\n",
    "        else\n",
    "            x_R = x_M;\n",
    "        end\n",
    "        x_M = (x_L + x_R)/2;\n",
    "        f_M = f(x_M);\n",
    "        iteration_counter = iteration_counter + 1;\n",
    "    end\n",
    "    result1 = x_M;\n",
    "    result2 = iteration_counter;\n",
    "end\n",
    "function bisection_method()\n",
    "    f = @(x) x^2 - 9;\n",
    "    eps = 1e-6;\n",
    "    a = 0;   b = 1000;\n",
    "    [solution, no_iterations] = bisection(f, a, b, eps);\n",
    "    if solution <= b   % Solution found\n",
    "        fprintf('Number of function calls: %d\\n', 1+2*no_iterations);\n",
    "        fprintf('A solution is: %f\\n', solution);\n",
    "    else\n",
    "        fprintf('Abort execution.\\n');\n",
    "    end\n",
    "end"
   ]
  },
  {
   "cell_type": "code",
   "execution_count": 144,
   "id": "5b850427-3f7b-41cf-8bfb-6fa9ac8a3741",
   "metadata": {},
   "outputs": [
    {
     "name": "stdout",
     "output_type": "stream",
     "text": [
      "Number of function calls: 63\n",
      "A solution is: 3.000000\n"
     ]
    }
   ],
   "source": [
    "bisection_method()"
   ]
  },
  {
   "cell_type": "code",
   "execution_count": null,
   "id": "4904be93-80ef-48d4-8421-daf7a35d1d26",
   "metadata": {},
   "outputs": [],
   "source": []
  }
 ],
 "metadata": {
  "kernelspec": {
   "display_name": "Octave",
   "language": "octave",
   "name": "octave"
  },
  "language_info": {
   "file_extension": ".m",
   "help_links": [
    {
     "text": "GNU Octave",
     "url": "https://www.gnu.org/software/octave/support.html"
    },
    {
     "text": "Octave Kernel",
     "url": "https://github.com/Calysto/octave_kernel"
    },
    {
     "text": "MetaKernel Magics",
     "url": "https://metakernel.readthedocs.io/en/latest/source/README.html"
    }
   ],
   "mimetype": "text/x-octave",
   "name": "octave",
   "version": "5.2.0"
  }
 },
 "nbformat": 4,
 "nbformat_minor": 5
}
