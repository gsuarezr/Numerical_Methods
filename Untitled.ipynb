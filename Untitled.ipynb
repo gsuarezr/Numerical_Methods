{
 "cells": [
  {
   "cell_type": "markdown",
   "id": "27ae0037",
   "metadata": {},
   "source": [
    "# LU decomposition"
   ]
  },
  {
   "cell_type": "markdown",
   "id": "3ff1f454",
   "metadata": {},
   "source": [
    "### Matrices and Vectors In octave"
   ]
  },
  {
   "cell_type": "markdown",
   "id": "ad44ead1",
   "metadata": {},
   "source": [
    "In octave vectors and matrices are written in a similar way, to separate elements of a row we simply leave a space between them, to get to the next row we simply use a semicolon ;. Knowing this we may define row vectors, column vectors and matrices:"
   ]
  },
  {
   "cell_type": "code",
   "execution_count": 1,
   "id": "0046ac92",
   "metadata": {},
   "outputs": [
    {
     "data": {
      "text/latex": [
       "$$ v = \\begin{bmatrix} 0 & 1 & 2 & 3 & 4 \\end{bmatrix}$$"
      ],
      "text/plain": [
       "v =    0   1   2   3   4\n"
      ]
     },
     "metadata": null,
     "output_type": "display_data"
    }
   ],
   "source": [
    "displayformat matrix latex; ## Command only works in xeus-octave, and it's meant for pretty printing, if you are using a different\n",
    "#version or matlab this will give an error\n",
    "v=[0 1 2 3 4] # row vector"
   ]
  },
  {
   "cell_type": "code",
   "execution_count": 2,
   "id": "281ac159",
   "metadata": {},
   "outputs": [
    {
     "data": {
      "text/latex": [
       "$$ v = \\begin{bmatrix} 0 \\\\ 1 \\\\ 2 \\\\ 3 \\\\ 4 \\end{bmatrix}$$"
      ],
      "text/plain": [
       "v =    0\n",
       "   1\n",
       "   2\n",
       "   3\n",
       "   4\n"
      ]
     },
     "metadata": null,
     "output_type": "display_data"
    }
   ],
   "source": [
    "v=[0 ;1 ;2 ;3; 4] # column vector"
   ]
  },
  {
   "cell_type": "code",
   "execution_count": 3,
   "id": "30ccadc7",
   "metadata": {},
   "outputs": [
    {
     "data": {
      "text/latex": [
       "$$ m = \\begin{bmatrix} 0 & 1 & 2 & 3 \\\\ 4 & 5 & 6 & 7 \\\\ 8 & 9 & 10 & 11 \\\\ 12 & 13 & 14 & 15 \\end{bmatrix}$$"
      ],
      "text/plain": [
       "m =     0    1    2    3\n",
       "    4    5    6    7\n",
       "    8    9   10   11\n",
       "   12   13   14   15\n"
      ]
     },
     "metadata": null,
     "output_type": "display_data"
    }
   ],
   "source": [
    "m=[0 1 2 3;4 5 6 7; 8 9 10 11;12 13 14 15]# matrix"
   ]
  },
  {
   "cell_type": "markdown",
   "id": "9d52e9e8",
   "metadata": {},
   "source": [
    "In octave transposition is done with the ' character, one thing to be aware about is that this also the dagger operation meaning that for complex matrices it also performs conjugation"
   ]
  },
  {
   "cell_type": "code",
   "execution_count": 6,
   "id": "9de35b40",
   "metadata": {},
   "outputs": [
    {
     "data": {
      "text/latex": [
       "$$ ans = \\begin{bmatrix} 0 & 4 & 8 & 12 \\\\ 1 & 5 & 9 & 13 \\\\ 2 & 6 & 10 & 14 \\\\ 3 & 7 & 11 & 15 \\end{bmatrix}$$"
      ],
      "text/plain": [
       "ans =     0    4    8   12\n",
       "    1    5    9   13\n",
       "    2    6   10   14\n",
       "    3    7   11   15\n"
      ]
     },
     "metadata": null,
     "output_type": "display_data"
    }
   ],
   "source": [
    "m'"
   ]
  },
  {
   "cell_type": "code",
   "execution_count": null,
   "id": "87b9dd04",
   "metadata": {},
   "outputs": [],
   "source": []
  }
 ],
 "metadata": {
  "kernelspec": {
   "display_name": "Octave (xoctave)",
   "language": "Octave",
   "name": "xoctave"
  },
  "language_info": {
   "codemirror_mode": "octave",
   "file_extension": ".m",
   "mimetype": "text/x-octave",
   "name": "Octave",
   "pygments_lexer": "octave",
   "version": "7.2.0"
  }
 },
 "nbformat": 4,
 "nbformat_minor": 5
}
