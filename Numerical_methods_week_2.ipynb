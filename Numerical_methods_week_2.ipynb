{
 "cells": [
  {
   "cell_type": "markdown",
   "id": "9324aa3d-41fa-48d6-a0f3-d772b4ae944a",
   "metadata": {
    "tags": []
   },
   "source": [
    "### Matrices and Vectors In octave"
   ]
  },
  {
   "cell_type": "markdown",
   "id": "f02f2b1b",
   "metadata": {},
   "source": [
    "In octave vectors and matrices are written in a similar way, to separate elements of a row we simply leave a space between them, to get to the next row we simply use a semicolon ;. Knowing this we may define row vectors, column vectors and matrices:"
   ]
  },
  {
   "cell_type": "code",
   "execution_count": 3,
   "id": "17478618-59c9-45eb-8172-03a4cf04db2f",
   "metadata": {},
   "outputs": [
    {
     "name": "stdout",
     "output_type": "stream",
     "text": [
      "error: 'displayformat' undefined near line 1 column 1\n",
      "v =\n",
      "\n",
      "   0   1   2   3   4\n",
      "\n"
     ]
    }
   ],
   "source": [
    "displayformat matrix latex; ## Command only works in xeus-octave, and it's meant for pretty printing\n",
    "v=[0 1 2 3 4] # row vector"
   ]
  },
  {
   "cell_type": "code",
   "execution_count": 4,
   "id": "a57e2170",
   "metadata": {},
   "outputs": [
    {
     "name": "stdout",
     "output_type": "stream",
     "text": [
      "v =\r\n",
      "\r\n",
      "   0\r\n",
      "   1\r\n",
      "   2\r\n",
      "   3\r\n",
      "   4\r\n",
      "\r\n"
     ]
    }
   ],
   "source": [
    "v=[0 ;1 ;2 ;3; 4] # column vector"
   ]
  },
  {
   "cell_type": "code",
   "execution_count": 5,
   "id": "48b6219e-58cf-4547-a42e-000f4ead4203",
   "metadata": {},
   "outputs": [
    {
     "name": "stdout",
     "output_type": "stream",
     "text": [
      "m =\r\n",
      "\r\n",
      "    0    1    2    3\r\n",
      "    4    5    6    7\r\n",
      "    8    9   10   11\r\n",
      "   12   13   14   15\r\n",
      "\r\n"
     ]
    }
   ],
   "source": [
    "m=[0 1 2 3;4 5 6 7; 8 9 10 11;12 13 14 15]# matrix"
   ]
  },
  {
   "cell_type": "markdown",
   "id": "9f903cc8",
   "metadata": {},
   "source": [
    "In octave transposition is done with the ' character, one thing to be aware about is that this also the dagger operation meaning that for complex matrices it also performs conjugation"
   ]
  },
  {
   "cell_type": "code",
   "execution_count": 6,
   "id": "6ff1cf01-c7d0-4209-9d67-3e83a8df727b",
   "metadata": {},
   "outputs": [
    {
     "name": "stdout",
     "output_type": "stream",
     "text": [
      "p =\r\n",
      "\r\n",
      "   1   0   0   0\r\n",
      "   0   1   0   0\r\n",
      "   0   0   0   1\r\n",
      "   0   0   1   0\r\n",
      "\r\n"
     ]
    }
   ],
   "source": [
    "p=[1 0 0 0; 0 1 0 0; 0 0 0 1; 0 0 1 0]"
   ]
  },
  {
   "cell_type": "code",
   "execution_count": 7,
   "id": "c8852c7b-1b38-4c22-b6c5-a90095701aa4",
   "metadata": {},
   "outputs": [
    {
     "name": "stdout",
     "output_type": "stream",
     "text": [
      "ans =\r\n",
      "\r\n",
      "   1   0   0   0\r\n",
      "   0   1   0   0\r\n",
      "   0   0   0   1\r\n",
      "   0   0   1   0\r\n",
      "\r\n"
     ]
    }
   ],
   "source": [
    "p'"
   ]
  },
  {
   "cell_type": "markdown",
   "id": "146123c2",
   "metadata": {},
   "source": [
    "Finding eigenvalues, eigenvectors and so on in octave is fairly straightforward\n",
    "\n",
    "The determinant is obtained with the det function, eigevalues and eigenvectors with eig"
   ]
  },
  {
   "cell_type": "code",
   "execution_count": 8,
   "id": "c96b6b42-aad9-4cdf-827a-5d2d05ca43e4",
   "metadata": {},
   "outputs": [
    {
     "name": "stdout",
     "output_type": "stream",
     "text": [
      "ans = -1\r\n"
     ]
    }
   ],
   "source": [
    "det(p)"
   ]
  },
  {
   "cell_type": "code",
   "execution_count": 9,
   "id": "a6a37451-8a99-4dca-9676-4818fee9fb65",
   "metadata": {},
   "outputs": [
    {
     "name": "stdout",
     "output_type": "stream",
     "text": [
      "ans =\r\n",
      "\r\n",
      "  -1\r\n",
      "   1\r\n",
      "   1\r\n",
      "   1\r\n",
      "\r\n"
     ]
    }
   ],
   "source": [
    "eig(p) #eigenvalues by default"
   ]
  },
  {
   "cell_type": "code",
   "execution_count": 20,
   "id": "857bc619",
   "metadata": {},
   "outputs": [
    {
     "name": "stdout",
     "output_type": "stream",
     "text": [
      "eivects =\r\n",
      "\r\n",
      "   0.00000   0.00000   0.00000   1.00000\r\n",
      "   0.00000   1.00000   0.00000   0.00000\r\n",
      "  -0.70711   0.00000   0.70711   0.00000\r\n",
      "   0.70711   0.00000   0.70711   0.00000\r\n",
      "\r\n",
      "eigvals =\r\n",
      "\r\n",
      "Diagonal Matrix\r\n",
      "\r\n",
      "  -1   0   0   0\r\n",
      "   0   1   0   0\r\n",
      "   0   0   1   0\r\n",
      "   0   0   0   1\r\n",
      "\r\n"
     ]
    }
   ],
   "source": [
    "[eivects,eigvals]=eig(p)"
   ]
  },
  {
   "cell_type": "markdown",
   "id": "0e24469f",
   "metadata": {},
   "source": [
    "Eigenvectors come as a matrix so one needs to do  little matrix indexing to recover the actual vectors, In octave one can index elements of a matrix using parenthesis\n",
    "\n",
    "\n",
    "A(row,column)\n",
    "\n",
    "\n",
    "in octave : means all elements so for example the element\n",
    "\n",
    "[insert images]\n",
    "\n",
    "may be obtained by A(1,1) \n",
    "\n",
    "While the first row of A may be obtained by A(:,1)"
   ]
  },
  {
   "cell_type": "code",
   "execution_count": 24,
   "id": "27ab973a",
   "metadata": {},
   "outputs": [
    {
     "name": "stdout",
     "output_type": "stream",
     "text": [
      "ans =\r\n",
      "\r\n",
      "   0.00000\r\n",
      "   0.00000\r\n",
      "  -0.70711\r\n",
      "   0.70711\r\n",
      "\r\n"
     ]
    }
   ],
   "source": [
    "eivects(:,1)"
   ]
  },
  {
   "cell_type": "markdown",
   "id": "8925aec3",
   "metadata": {},
   "source": [
    "We check that it is indeed an eigenvector"
   ]
  },
  {
   "cell_type": "code",
   "execution_count": 25,
   "id": "d28f32d2",
   "metadata": {},
   "outputs": [
    {
     "name": "stdout",
     "output_type": "stream",
     "text": [
      "ans =\r\n",
      "\r\n",
      "   0.00000\r\n",
      "   0.00000\r\n",
      "   0.70711\r\n",
      "  -0.70711\r\n",
      "\r\n"
     ]
    }
   ],
   "source": [
    "p*eivects(:,1)"
   ]
  },
  {
   "cell_type": "markdown",
   "id": "df0e10a2",
   "metadata": {},
   "source": [
    "The upper bound on the error of numerical linear algebra calculations is the so called [condition number](https://en.wikipedia.org/wiki/Condition_number#Matrices) which is defined as the ratio of the maximal and singular values of a matrix, if the condition number is big with respect to 1, then we might expect incorrect results from whatever calculations we do with this matrix"
   ]
  },
  {
   "cell_type": "code",
   "execution_count": 30,
   "id": "31a0ca00-271e-4be1-8180-dd87d8e4e4ad",
   "metadata": {},
   "outputs": [
    {
     "name": "stdout",
     "output_type": "stream",
     "text": [
      "ans =  1\r\n"
     ]
    }
   ],
   "source": [
    "cond(p)"
   ]
  },
  {
   "cell_type": "code",
   "execution_count": 31,
   "id": "a256829f",
   "metadata": {},
   "outputs": [
    {
     "name": "stdout",
     "output_type": "stream",
     "text": [
      "ans =    3.5680e+17\r\n"
     ]
    }
   ],
   "source": [
    "cond(m) # m is a singular matrix so a high condition number is expected"
   ]
  },
  {
   "cell_type": "markdown",
   "id": "3b6171cc-eb10-4378-914d-6b5d898fae7d",
   "metadata": {
    "tags": []
   },
   "source": [
    "## Linear Systems Basic Gaussian elimination\n",
    "\n",
    "Consider the system of equations \n",
    "\n",
    "\\begin{align*}\n",
    "x+2y+3z=4\\\\\n",
    "-2y-4z=6\\\\\n",
    "x-y=0\n",
    "\\end{align*}\n",
    "\n",
    "We may write in [augmented matrix form](https://en.wikipedia.org/wiki/Augmented_matrix) in octave simply by:"
   ]
  },
  {
   "cell_type": "code",
   "execution_count": 64,
   "id": "6d5020ef-6ee4-45a8-94a3-112bd7df6e77",
   "metadata": {},
   "outputs": [
    {
     "name": "stdout",
     "output_type": "stream",
     "text": [
      "B =\r\n",
      "\r\n",
      "   1   2   3   4\r\n",
      "   0  -2  -4   6\r\n",
      "   1  -1   0   0\r\n",
      "\r\n"
     ]
    }
   ],
   "source": [
    "B=[1 2 3 4;0 -2 -4 6;1 -1 0 0]"
   ]
  },
  {
   "cell_type": "code",
   "execution_count": 65,
   "id": "f8d5d0fe",
   "metadata": {},
   "outputs": [],
   "source": [
    "A=B(:,1:3); #we extract the system of equations\n",
    "b=B(:,4); # and the results from the augmented matrix to use them later"
   ]
  },
  {
   "cell_type": "markdown",
   "id": "473a9025",
   "metadata": {},
   "source": [
    "Now we may simply start doing gaussian elimination, the idea is to make all elements but the ones in the diagonal and last row zero, by performing elementary operations on rows (Multiplication, division and addition to other rows), to get some practice on indexing let us do this in octave"
   ]
  },
  {
   "cell_type": "code",
   "execution_count": 66,
   "id": "3d068a3f-18fe-4005-8e84-f69f19b22652",
   "metadata": {},
   "outputs": [
    {
     "name": "stdout",
     "output_type": "stream",
     "text": [
      "B =\r\n",
      "\r\n",
      "   1   2   3   4\r\n",
      "   0  -2  -4   6\r\n",
      "   0   3   3   4\r\n",
      "\r\n"
     ]
    }
   ],
   "source": [
    "B(3,:)=-B(3,:)+B(1,:) #Multiply last row by minus one and add the first row to it"
   ]
  },
  {
   "cell_type": "code",
   "execution_count": 67,
   "id": "54e52712-b08b-4c82-8dfd-96f5dcb4b3f0",
   "metadata": {},
   "outputs": [
    {
     "name": "stdout",
     "output_type": "stream",
     "text": [
      "B =\r\n",
      "\r\n",
      "   1.00000   2.00000   3.00000   4.00000\r\n",
      "   0.00000  -2.00000  -4.00000   6.00000\r\n",
      "  -0.00000  -0.00000   1.00000  -4.33333\r\n",
      "\r\n"
     ]
    }
   ],
   "source": [
    "B(3,:) =( B(3,:) + (3/2) *B(2,:))/(-3) # Change the third row by adding to it 3/2 times the second row \n",
    "# and multiplying the result by -1/3"
   ]
  },
  {
   "cell_type": "code",
   "execution_count": 68,
   "id": "7c253440-3823-4f1f-b266-94c6c1378a03",
   "metadata": {},
   "outputs": [
    {
     "name": "stdout",
     "output_type": "stream",
     "text": [
      "B =\r\n",
      "\r\n",
      "   1.00000   2.00000   3.00000   4.00000\r\n",
      "  -0.00000   1.00000  -0.00000   5.66667\r\n",
      "  -0.00000  -0.00000   1.00000  -4.33333\r\n",
      "\r\n"
     ]
    }
   ],
   "source": [
    "B(2,:)=((1/4)*B(2,:)+B(3,:))*-2 # Change the second row by multiplying it by -1/4 and add the third row to it\n",
    "# multiply everything by -2 in the end"
   ]
  },
  {
   "cell_type": "code",
   "execution_count": 69,
   "id": "b59e7afc",
   "metadata": {},
   "outputs": [
    {
     "name": "stdout",
     "output_type": "stream",
     "text": [
      "B =\r\n",
      "\r\n",
      "    1.00000    2.00000    0.00000   17.00000\r\n",
      "   -0.00000    1.00000   -0.00000    5.66667\r\n",
      "   -0.00000   -0.00000    1.00000   -4.33333\r\n",
      "\r\n"
     ]
    }
   ],
   "source": [
    "B(1,:)=B(1,:)-3*B(3,:) # Change the first row by adding the last one times -3"
   ]
  },
  {
   "cell_type": "code",
   "execution_count": 70,
   "id": "cd459311",
   "metadata": {},
   "outputs": [
    {
     "name": "stdout",
     "output_type": "stream",
     "text": [
      "B =\r\n",
      "\r\n",
      "   1.00000   0.00000   0.00000   5.66667\r\n",
      "  -0.00000   1.00000  -0.00000   5.66667\r\n",
      "  -0.00000  -0.00000   1.00000  -4.33333\r\n",
      "\r\n"
     ]
    }
   ],
   "source": [
    "B(1,:)=B(1,:)-2*B(2,:) # Change the first row by adding the second one times -2"
   ]
  },
  {
   "cell_type": "markdown",
   "id": "7ea42f59",
   "metadata": {},
   "source": [
    "By performing Gaussian elimination we found x=5.6667=17/3=y and z=-13/3=-4.33333"
   ]
  },
  {
   "cell_type": "markdown",
   "id": "8fa6597a-3f5f-4af7-b76c-d5de5893b7d3",
   "metadata": {
    "tags": []
   },
   "source": [
    "#### Using Left Division\n",
    "\n",
    "In Octave the built in operation for solving linear systems is called Left division, it works on systems of the form $A \\vec{x}=\\vec{b}$, What left division is equivalent to is $A^{-1} \\vec{b}$, and it is written as A\\b, so we may solve the same system by this simple command"
   ]
  },
  {
   "cell_type": "code",
   "execution_count": 72,
   "id": "4056c20f-7f35-48d7-8d6b-bd30bade404c",
   "metadata": {},
   "outputs": [
    {
     "name": "stdout",
     "output_type": "stream",
     "text": [
      "ans =\r\n",
      "\r\n",
      "   5.6667\r\n",
      "   5.6667\r\n",
      "  -4.3333\r\n",
      "\r\n"
     ]
    }
   ],
   "source": [
    "A\\b"
   ]
  },
  {
   "cell_type": "markdown",
   "id": "aaf58e21",
   "metadata": {},
   "source": [
    "We indeed see the same result"
   ]
  },
  {
   "cell_type": "markdown",
   "id": "06c6f3b2",
   "metadata": {},
   "source": [
    "![System.png](attachment:ba1c1ce6-3f98-4dc5-91d3-b3be3b3cc55d.png)\n",
    "\n",
    "### **Task 1** Write the system in augmented matrix form, and perform Gaussian elimination, check your answer using left division  "
   ]
  },
  {
   "cell_type": "markdown",
   "id": "7f4a5671-99b4-4ff1-89d5-a173318a5a09",
   "metadata": {
    "tags": []
   },
   "source": [
    "## The LU decomposition\n",
    "\n",
    "The idea of this matrix decompositio is to write the matrix A as $A=LU$ where U is an upper triangular matrix and L is a lower triangular matrix, How to get one is similar to Gaussian elimination, let us break down the procedure:\n",
    "\n",
    "[Images]"
   ]
  },
  {
   "cell_type": "markdown",
   "id": "ac110961",
   "metadata": {},
   "source": [
    "One May use the LU decomposition to solve determinants, since \n",
    "\n",
    "det(A)=det(LU)=det(L)det(U)\n",
    "\n",
    "and the determinant of a triangular matrix is just the product of the diagonal elements"
   ]
  },
  {
   "cell_type": "code",
   "execution_count": 75,
   "id": "5746d1eb-dd79-407a-9430-0c107fc0643a",
   "metadata": {},
   "outputs": [
    {
     "name": "stdout",
     "output_type": "stream",
     "text": [
      "U =\r\n",
      "\r\n",
      "   1   2   3\r\n",
      "   0  -2  -4\r\n",
      "   0   0   3\r\n",
      "\r\n"
     ]
    }
   ],
   "source": [
    "U=[1 2 3;0 -2 -4;0 0 3]"
   ]
  },
  {
   "cell_type": "code",
   "execution_count": 76,
   "id": "34334ab3-4080-4429-828b-a9684eca3c11",
   "metadata": {},
   "outputs": [
    {
     "name": "stdout",
     "output_type": "stream",
     "text": [
      "L =\r\n",
      "\r\n",
      "   1.00000   0.00000   0.00000\r\n",
      "   0.00000   1.00000   0.00000\r\n",
      "   1.00000   1.50000   1.00000\r\n",
      "\r\n"
     ]
    }
   ],
   "source": [
    "L=[1 0 0;0 1 0;1 1.5 1]"
   ]
  },
  {
   "cell_type": "markdown",
   "id": "087955d6",
   "metadata": {},
   "source": [
    "We may find the product of the diagonal elements via a for loop"
   ]
  },
  {
   "cell_type": "code",
   "execution_count": 96,
   "id": "c7ca3147",
   "metadata": {},
   "outputs": [
    {
     "name": "stdout",
     "output_type": "stream",
     "text": [
      "detL =  1\r\n"
     ]
    }
   ],
   "source": [
    "detL=1;\n",
    "for i=1:size(L)[1];\n",
    "    detL*=L(i,i);\n",
    "end\n",
    "detL"
   ]
  },
  {
   "cell_type": "markdown",
   "id": "1ccacfc8",
   "metadata": {},
   "source": [
    "**Task** Find the determinant of det(A) using the LU decomposition (without using the built in function det()) later compare with the result from det"
   ]
  },
  {
   "cell_type": "markdown",
   "id": "2fb9d9bc",
   "metadata": {},
   "source": [
    "The other main application of the LU decomposition is solving linear systems. To see how let us follow our example\n",
    "\n",
    "[image]\n",
    "\n",
    "As we can see once we have LU decomposition everything reduces to forward and backward substitution"
   ]
  },
  {
   "cell_type": "code",
   "execution_count": 97,
   "id": "33ea71b2-6e75-4e1b-a620-df088f5204b3",
   "metadata": {},
   "outputs": [],
   "source": [
    "function x = backward(U,b)\n",
    "% BACKWARD. backward elimination.\n",
    "% For upper triangular U, x = backward(U,b) solves U*x = b. If an element on Diagonal is zero perform permutations so LU=PA\n",
    "    n=size(U)(1); # gets size of matrix\n",
    "    for k = n:-1:1 # go from n to one decreasing\n",
    "        x(k) = b(k)/U(k,k); # find variable from ax=y\n",
    "        i = (1:k-1); # range of other variables\n",
    "        b(i) = b(i) - x(k)*U(i,k);  # subs found variables into b\n",
    "    end\n",
    "end"
   ]
  },
  {
   "cell_type": "code",
   "execution_count": 100,
   "id": "e633f4a7-36df-4039-9e81-37951095384c",
   "metadata": {},
   "outputs": [],
   "source": [
    "function x = forward(L,x)\n",
    "% FORWARD. Forward elimination.\n",
    "% For lower triangular L, x = forward(L,b) solves L*x = b. If an element on Diagonal is zero perform permutations so LU=PA\n",
    "n= size(L)(1);\n",
    "for k = 1:n\n",
    "j = 1:k-1; # same as backward in one step\n",
    "x(k) = (x(k) - L(k,j)*x(j))/L(k,k);\n",
    "end\n",
    "end"
   ]
  },
  {
   "cell_type": "code",
   "execution_count": 101,
   "id": "03ba7cf2-38aa-4657-b6c6-15aa5ab284c7",
   "metadata": {},
   "outputs": [
    {
     "name": "stdout",
     "output_type": "stream",
     "text": [
      "ans =\r\n",
      "\r\n",
      "    4\r\n",
      "    6\r\n",
      "  -13\r\n",
      "\r\n"
     ]
    }
   ],
   "source": [
    "forward(L,[4;6;0])"
   ]
  },
  {
   "cell_type": "code",
   "execution_count": 102,
   "id": "2683e636-8cc7-4f66-b222-e56e8533ef70",
   "metadata": {},
   "outputs": [
    {
     "name": "stdout",
     "output_type": "stream",
     "text": [
      "ans =\r\n",
      "\r\n",
      "   5.6667   5.6667  -4.3333\r\n",
      "\r\n"
     ]
    }
   ],
   "source": [
    "backward(U,[4;6;-13])"
   ]
  },
  {
   "cell_type": "code",
   "execution_count": 32,
   "id": "6d5779c9-1127-49ec-978a-1a61004ce8e7",
   "metadata": {},
   "outputs": [],
   "source": [
    "function [lower,upper]=dolittle(A)\n",
    "n=size(A)(1);\n",
    "lower=zeros(n,n);\n",
    "upper=eye(n,n);\n",
    "for i=1:n\n",
    "    for k=i:n\n",
    "    suma1=0;\n",
    "    suma2=0;\n",
    "        for j=1:i\n",
    "        suma1=suma1+lower(i,j)*upper(j,k);\n",
    "        suma2=suma2+lower(k,j)*upper(j,i);\n",
    "        end\n",
    "    upper(i,k)=A(i,k)-suma1;\n",
    "    lower(k,i)=(A(k,i)-suma2)/upper(i,i);\n",
    "    end\n",
    "end"
   ]
  },
  {
   "cell_type": "code",
   "execution_count": 33,
   "id": "dba8ed04-36c4-44c0-94cc-2da212739de7",
   "metadata": {},
   "outputs": [
    {
     "data": {
      "text/latex": [
       "$$ l = \\begin{bmatrix} 1 & 0 & 0 \\\\ 0 & 1 & 0 \\\\ 1 & 1.5 & 1 \\end{bmatrix}$$"
      ],
      "text/plain": [
       "l =    1.0000        0        0\n",
       "        0   1.0000        0\n",
       "   1.0000   1.5000   1.0000\n"
      ]
     },
     "metadata": {},
     "output_type": "display_data"
    },
    {
     "data": {
      "text/latex": [
       "$$ u = \\begin{bmatrix} 1 & 2 & 3 \\\\ 0 & -2 & -4 \\\\ 0 & 0 & 3 \\end{bmatrix}$$"
      ],
      "text/plain": [
       "u =    1   2   3\n",
       "   0  -2  -4\n",
       "   0   0   3\n"
      ]
     },
     "metadata": {},
     "output_type": "display_data"
    }
   ],
   "source": [
    "[l,u]=dolittle(org)"
   ]
  },
  {
   "cell_type": "code",
   "execution_count": 35,
   "id": "93147d88-2a19-45a4-a0d8-4dd88779182b",
   "metadata": {},
   "outputs": [
    {
     "data": {
      "text/latex": [
       "$$ ans = \\begin{bmatrix} 0 & 0 & 0 \\\\ 0 & 0 & 0 \\\\ 0 & 0 & 0 \\end{bmatrix}$$"
      ],
      "text/plain": [
       "ans =    0   0   0\n",
       "   0   0   0\n",
       "   0   0   0\n"
      ]
     },
     "metadata": {},
     "output_type": "display_data"
    }
   ],
   "source": [
    "l*u-org"
   ]
  },
  {
   "cell_type": "code",
   "execution_count": 72,
   "id": "ee7eb336-6723-4f88-aabf-e434d5a3c334",
   "metadata": {},
   "outputs": [
    {
     "data": {
      "text/latex": [
       "$$ l = \\begin{bmatrix} 1 & 0 & 0 \\\\ 1 & 1 & 0 \\\\ 0 & 0.666667 & 1 \\end{bmatrix}$$"
      ],
      "text/plain": [
       "l =    1.0000        0        0\n",
       "   1.0000   1.0000        0\n",
       "        0   0.6667   1.0000\n"
      ]
     },
     "metadata": {},
     "output_type": "display_data"
    },
    {
     "data": {
      "text/latex": [
       "$$ u = \\begin{bmatrix} 1 & 2 & 3 \\\\ 0 & -3 & -3 \\\\ 0 & 0 & -2 \\end{bmatrix}$$"
      ],
      "text/plain": [
       "u =    1   2   3\n",
       "   0  -3  -3\n",
       "   0   0  -2\n"
      ]
     },
     "metadata": {},
     "output_type": "display_data"
    },
    {
     "data": {
      "text/plain": [
       "p = Permutation Matrix\n",
       "\n",
       "   1   0   0\n",
       "   0   0   1\n",
       "   0   1   0\n"
      ]
     },
     "metadata": {},
     "output_type": "display_data"
    }
   ],
   "source": [
    "[l, u, p] = lu(org)"
   ]
  }
 ],
 "metadata": {
  "kernelspec": {
   "display_name": "Octave",
   "language": "octave",
   "name": "octave"
  },
  "language_info": {
   "file_extension": ".m",
   "help_links": [
    {
     "text": "GNU Octave",
     "url": "https://www.gnu.org/software/octave/support.html"
    },
    {
     "text": "Octave Kernel",
     "url": "https://github.com/Calysto/octave_kernel"
    },
    {
     "text": "MetaKernel Magics",
     "url": "https://metakernel.readthedocs.io/en/latest/source/README.html"
    }
   ],
   "mimetype": "text/x-octave",
   "name": "octave",
   "version": "5.2.0"
  }
 },
 "nbformat": 4,
 "nbformat_minor": 5
}
