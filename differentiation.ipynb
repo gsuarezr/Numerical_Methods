{
 "cells": [
  {
   "cell_type": "markdown",
   "id": "d3b79f6f",
   "metadata": {},
   "source": [
    "One of the most important applications of interpolation is finding derivatives. Let us being by considering the definition of a derivative\n",
    "\n",
    "\\begin{equation}\n",
    "\\frac{df(x)}{dx} = \\lim_{h \\rightarrow 0} \\frac{f(x+h)-f(x)}{h}\n",
    "\\end{equation}\n",
    "\n",
    "It is safe to think that an approximation of the derivative at the point x_{i} (one of the nodes of the interpolation) should depend on the values of f at the nodes closest to x_{i}. \n",
    "\n",
    "One more thing to consider is that differentiation is a linear operation, based on this we will only consider equations that are linear in the nodal values.  A good candidate that satisfies both things is the finite difference formula\n",
    "\n",
    "\\begin{equation}\n",
    "f'(x_{i}) \\approx \\frac{1}{h} \\sum_{k=-p}^{q} a_{k} f(x_{i}+k h)\n",
    "\\end{equation}\n",
    "\n",
    "Where q and p are constants known as weights of the finite differences, which are independent of f, but depend on the nodes of interpolation. The finite difference formulas are translationally invariant (if you want to convince yourself do the change of variables s=x_{i}-x) so we can compute everything for $x_{i}=0$ without loss of generality\n",
    "\n",
    "The most obvious finite difference formula is \n",
    "\n",
    "\\begin{equation}\n",
    "\\frac{f'(x)} \\approx \\frac{f(x+h)-f(x)}{h}\n",
    "\\end{equation}\n",
    "\n",
    "which would correspond to $p=0,q=1,a_{0}=-1,a_{1}=1$. This is usually referred to as the forward difference formula. There is also the backward difference formula on which $q=0,p=1$\n",
    "\n",
    "\\begin{equation}\n",
    "\\frac{f'(x)} \\approx \\frac{f(x)-f(x-h)}{h}\n",
    "\\end{equation}\n",
    "\n",
    "When the functions are differentiable both become the same when $h \\rightarrow 0$. Though on may stop at this since those two formulas may seem like enough they are not the only options, one objection may be that they are not symmetrical about x. An alternative that is, would be when $p=q=1$ \n",
    "\n",
    "\n",
    "**An Example**:\n",
    "\n",
    "Suppose $f(x)=e^{x}$, we take $h=\\frac{1}{4}$ over the interval [0,1], Thus we have the nodes $[0,\\frac{1}{4},\\frac{1}{2}, \\frac{3}{4},1]$\n",
    "\n",
    "Then we evaluate the function on the nodes \n"
   ]
  },
  {
   "cell_type": "code",
   "execution_count": 35,
   "id": "6bbe9825",
   "metadata": {
    "vscode": {
     "languageId": "octave"
    }
   },
   "outputs": [],
   "source": [
    "h=1/4;\n",
    "nodes=0:h:1;\n",
    "f=@(x) x^2;"
   ]
  },
  {
   "cell_type": "markdown",
   "id": "15b7dbe6-e14e-4421-b666-50f02bcf2916",
   "metadata": {},
   "source": [
    "#### Forward"
   ]
  },
  {
   "cell_type": "code",
   "execution_count": 36,
   "id": "b15d7159-c0ed-4dbb-8651-0bb16fdaee1b",
   "metadata": {},
   "outputs": [
    {
     "name": "stdout",
     "output_type": "stream",
     "text": [
      "ans =  0.25000\n"
     ]
    }
   ],
   "source": [
    "4*(f(nodes(2))-f(nodes(1)))"
   ]
  },
  {
   "cell_type": "code",
   "execution_count": 37,
   "id": "8463186f-7509-45b2-bfdd-5e622b93ed22",
   "metadata": {},
   "outputs": [
    {
     "name": "stdout",
     "output_type": "stream",
     "text": [
      "ans =  0.50000\n"
     ]
    }
   ],
   "source": [
    "2*nodes(2)"
   ]
  },
  {
   "cell_type": "code",
   "execution_count": 38,
   "id": "3bdbb673-cefe-4309-a669-4afe40b49089",
   "metadata": {},
   "outputs": [
    {
     "name": "stdout",
     "output_type": "stream",
     "text": [
      "ans =  0.75000\n"
     ]
    }
   ],
   "source": [
    "4*(f(nodes(3))-f(nodes(2)))"
   ]
  },
  {
   "cell_type": "code",
   "execution_count": 39,
   "id": "86c8dee1-5375-4759-81ea-2d72e3bc8869",
   "metadata": {},
   "outputs": [
    {
     "name": "stdout",
     "output_type": "stream",
     "text": [
      "ans =  0.50000\n"
     ]
    }
   ],
   "source": [
    "2*nodes(2)"
   ]
  },
  {
   "cell_type": "markdown",
   "id": "1fca2274-986a-4f16-9bc2-67e158668c7b",
   "metadata": {},
   "source": [
    "#### backward"
   ]
  },
  {
   "cell_type": "code",
   "execution_count": 40,
   "id": "1ac1aca6-c194-4c17-87e0-4dc1902e9895",
   "metadata": {},
   "outputs": [
    {
     "name": "stdout",
     "output_type": "stream",
     "text": [
      "ans =  0.25000\n"
     ]
    }
   ],
   "source": [
    "4*(f(nodes(2))-f(nodes(1)))"
   ]
  },
  {
   "cell_type": "code",
   "execution_count": 41,
   "id": "1fdd6905-7cf8-4b53-9e98-c4c60beedf04",
   "metadata": {},
   "outputs": [
    {
     "name": "stdout",
     "output_type": "stream",
     "text": [
      "ans =  0.50000\n"
     ]
    }
   ],
   "source": [
    "2*nodes(2)"
   ]
  },
  {
   "cell_type": "markdown",
   "id": "12cb5e10-f49c-4f03-b077-5ae6c5d24d15",
   "metadata": {},
   "source": [
    "## We may want symmetric formulas let us consider the finite differences\n",
    "\n"
   ]
  },
  {
   "cell_type": "markdown",
   "id": "c93ecee4-bb87-4395-9f18-f804018099dd",
   "metadata": {},
   "source": [
    "Let us consider $f(x)=e^{sin(x)}$ then we have $f'(0)=1$"
   ]
  },
  {
   "cell_type": "code",
   "execution_count": 42,
   "id": "17293dd8-c571-4f7a-ab8a-bdbfe71c2c42",
   "metadata": {},
   "outputs": [],
   "source": [
    "f = @(x) exp(sin(x));"
   ]
  },
  {
   "cell_type": "code",
   "execution_count": 45,
   "id": "92c068c0-911a-494a-8876-651d288ebec5",
   "metadata": {},
   "outputs": [
    {
     "name": "stdout",
     "output_type": "stream",
     "text": [
      "C2 =  0.99974\n",
      "C4 =  1.0010\n"
     ]
    }
   ],
   "source": [
    "h=0.25;\n",
    "C2= (-f(-h)+f(h))/(2*h)\n",
    "C4=(f(-2*h)-8*f(-h)+8*f(h)-f(2*h))/(12*h)"
   ]
  },
  {
   "cell_type": "code",
   "execution_count": 46,
   "id": "5290d57c-f7a9-4b0f-84ef-7449bc9143d8",
   "metadata": {},
   "outputs": [
    {
     "name": "stdout",
     "output_type": "stream",
     "text": [
      "F1 =  1.1228\n",
      "F2 =  1.0153\n"
     ]
    }
   ],
   "source": [
    "F1=(-f(0)+f(h))/h\n",
    "F2=(-3*f(0)+4*f(h)-f(2*h))/(2*h)"
   ]
  },
  {
   "cell_type": "code",
   "execution_count": 47,
   "id": "85cafda5-569f-4184-840c-3622e86d4aee",
   "metadata": {},
   "outputs": [
    {
     "name": "stdout",
     "output_type": "stream",
     "text": [
      "B1 =  0.87670\n",
      "B2 =  0.99168\n"
     ]
    }
   ],
   "source": [
    "B1=(f(0)-f(-h))/h\n",
    "B2=(3*f(0)-4*f(-h)+f(-2*h))/(2*h)"
   ]
  },
  {
   "cell_type": "markdown",
   "id": "b5a0e2ae-90b5-4d1e-aefa-a691675bda88",
   "metadata": {},
   "source": [
    "## Second derivatives"
   ]
  },
  {
   "cell_type": "markdown",
   "id": "fd77e43f-cdf2-444a-a0e3-0549fd26a5e4",
   "metadata": {},
   "source": [
    "Again f''(0)=1"
   ]
  },
  {
   "cell_type": "code",
   "execution_count": 48,
   "id": "5c4e2ca9-8323-463e-a5da-3fdc9cdb59a5",
   "metadata": {},
   "outputs": [
    {
     "name": "stdout",
     "output_type": "stream",
     "text": [
      "Csecond =  0.98435\n"
     ]
    }
   ],
   "source": [
    "Csecond=(f(-h)-2*f(0)+f(h))/h^2"
   ]
  },
  {
   "cell_type": "code",
   "execution_count": 49,
   "id": "b509667c-a2a8-4415-ada5-95a05b45a2ac",
   "metadata": {},
   "outputs": [
    {
     "name": "stdout",
     "output_type": "stream",
     "text": [
      "Fsecond =  0.86006\n"
     ]
    }
   ],
   "source": [
    "Fsecond= (f(0)- 2 * f(h)+ f(2*h))/h^2"
   ]
  },
  {
   "cell_type": "code",
   "execution_count": 50,
   "id": "bcc15e5b-ebb8-4649-8dcf-12c9cbb7294f",
   "metadata": {},
   "outputs": [
    {
     "name": "stdout",
     "output_type": "stream",
     "text": [
      "bsecond =  0.91982\n"
     ]
    }
   ],
   "source": [
    "bsecond=(f(0)+f(-2*h)-2*f(-h))/h^2"
   ]
  },
  {
   "cell_type": "markdown",
   "id": "424a50e1-5462-4018-acaa-202d04d0c0bc",
   "metadata": {},
   "source": [
    "For Adaptative step, you need arbitrary nodes, you can get the weights for the finite differences via polynomial interpolation (Lagrange polynomials) just as we did for the centered difference"
   ]
  },
  {
   "cell_type": "markdown",
   "id": "57f3daeb-5016-4a03-a020-6b7ce9bed189",
   "metadata": {},
   "source": [
    "For finite differences the truncation error is given by:\n",
    "$\\tau_f(h) = f'(0) - \\frac{1}{h} \\sum_{k=-p}^{q} a_k f(kh).$"
   ]
  },
  {
   "cell_type": "markdown",
   "id": "0ac888e4-7a10-4407-b45b-b2869168026f",
   "metadata": {},
   "source": [
    "\\begin{align}\n",
    "  \\tau_f(h) &= f'(0) - \\frac{ f(h)-f(0)}{h} \\\\\n",
    "  &=f'(0) - h^{-1} \\left[ \\bigl( f(0) + h f'(0) + \\tfrac{1}{2}h^2f''(0)+ \\cdots \\bigr) - f(0) \\right] \\\\\n",
    "  & = -\\frac{1}{2}h f''(0) + O(h^2).\n",
    "  \\end{align}"
   ]
  },
  {
   "cell_type": "code",
   "execution_count": 51,
   "id": "02f0217c-9555-44df-87ea-14e421078bcb",
   "metadata": {},
   "outputs": [
    {
     "name": "stdout",
     "output_type": "stream",
     "text": [
      "f =\n",
      "\n",
      "@(x) sin (exp (x + 1))\n",
      "\n",
      "exact_value = -2.4783\n"
     ]
    }
   ],
   "source": [
    "f = @(x)  sin(exp(x+1))\n",
    "exact_value = exp(1)*cos(exp(1))"
   ]
  },
  {
   "cell_type": "code",
   "execution_count": 53,
   "id": "9ba9d7b8-a354-4678-b724-a0fdeb765594",
   "metadata": {},
   "outputs": [],
   "source": [
    "ff=@(x) (5/10)^x;\n",
    "h=[ff(1),ff(2),ff(3),ff(4),ff(5)];\n",
    "FD1 = [] ;  FD2 = [];\n",
    "for x=1:5\n",
    "    FD1(x)= (f(h(x))-f(0)) / (h(x)) ;\n",
    "    FD2(x)= (f(h(x))-f(-h(x))) / (2*h(x));\n",
    "end\n",
    " \n",
    " "
   ]
  },
  {
   "cell_type": "code",
   "execution_count": 54,
   "id": "362fc553-3ac7-4f86-910a-16a893141686",
   "metadata": {},
   "outputs": [
    {
     "name": "stdout",
     "output_type": "stream",
     "text": [
      "FD1 =\n",
      "\n",
      "  -2.7686  -3.0100  -2.7956  -2.6451  -2.5633\n",
      "\n"
     ]
    }
   ],
   "source": [
    "FD1"
   ]
  },
  {
   "cell_type": "code",
   "execution_count": 55,
   "id": "4a6a1406-8ffd-4374-8fed-ac342d984d13",
   "metadata": {},
   "outputs": [
    {
     "name": "stdout",
     "output_type": "stream",
     "text": [
      "FD2 =\n",
      "\n",
      "  -1.9705  -2.3925  -2.4598  -2.4739  -2.4773\n",
      "\n"
     ]
    }
   ],
   "source": [
    "FD2"
   ]
  },
  {
   "cell_type": "code",
   "execution_count": 56,
   "id": "d42b9662-15e8-468e-a3a1-9a98461a47a0",
   "metadata": {},
   "outputs": [
    {
     "name": "stdout",
     "output_type": "stream",
     "text": [
      "exact_value = -2.4783\n"
     ]
    }
   ],
   "source": [
    "exact_value"
   ]
  },
  {
   "cell_type": "code",
   "execution_count": null,
   "id": "b2f05ef6-e417-49b5-bde0-d2d89c768f62",
   "metadata": {},
   "outputs": [],
   "source": []
  }
 ],
 "metadata": {
  "kernelspec": {
   "display_name": "Octave",
   "language": "octave",
   "name": "octave"
  },
  "language_info": {
   "file_extension": ".m",
   "help_links": [
    {
     "text": "GNU Octave",
     "url": "https://www.gnu.org/software/octave/support.html"
    },
    {
     "text": "Octave Kernel",
     "url": "https://github.com/Calysto/octave_kernel"
    },
    {
     "text": "MetaKernel Magics",
     "url": "https://metakernel.readthedocs.io/en/latest/source/README.html"
    }
   ],
   "mimetype": "text/x-octave",
   "name": "octave",
   "version": "5.2.0"
  }
 },
 "nbformat": 4,
 "nbformat_minor": 5
}
