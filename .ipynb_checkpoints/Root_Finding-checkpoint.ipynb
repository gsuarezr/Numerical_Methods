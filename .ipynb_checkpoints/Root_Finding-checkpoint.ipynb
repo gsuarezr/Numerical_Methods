{
 "cells": [
  {
   "cell_type": "markdown",
   "id": "eb4195f5",
   "metadata": {},
   "source": [
    "# The naive approach"
   ]
  },
  {
   "cell_type": "markdown",
   "id": "752c5aa8",
   "metadata": {},
   "source": [
    "In this notebook we want to find the zeros of a function, meaning we want to find x such that f(x)=0, whenever we want to take a look at roots or zeros it's a good idea to visualize the function in the neiborhood we are looking for zeros in. Let us consider one particular example. Let \n",
    "\n",
    "\\begin{equation}\n",
    "f(x)=e^{x^{2}} cos(4x)\n",
    "\\end{equation}\n",
    "\n",
    "Let us go and try to find the zeros of said function, as a first step let us define the function, our region of interest (where we'll look for zeros) and plot it"
   ]
  },
  {
   "cell_type": "code",
   "execution_count": 1,
   "id": "801fc9f6-9cc9-49d1-9eeb-4e4516692248",
   "metadata": {},
   "outputs": [],
   "source": [
    "function x =f(x)\n",
    "% This function calculates e^{x^{2}} cos(4x), the input x can be a scalar or an array\n",
    "    x=exp(x.^2).*cos(4*x);\n",
    "endfunction"
   ]
  },
  {
   "cell_type": "code",
   "execution_count": 2,
   "id": "1e2a8420-44ea-466f-bc47-404c0620ba65",
   "metadata": {},
   "outputs": [],
   "source": [
    "x=-0:0.01:2;# We define the interval where will be looking for zeros "
   ]
  },
  {
   "cell_type": "code",
   "execution_count": 3,
   "id": "8425af0c-4601-4965-a12c-450abd372e9b",
   "metadata": {},
   "outputs": [
    {
     "data": {
      "image/png": "[encoded data removed]",
      "text/plain": [
       "<IPython.core.display.Image object>"
      ]
     },
     "metadata": {},
     "output_type": "display_data"
    }
   ],
   "source": [
    "y=f(x);\n",
    "hold on,plot(x,y,'r')\n",
    "line(\"xdata\",[0,2], \"ydata\",[0,0], \"linewidth\", 3)\n",
    "plot(x,y,'.')"
   ]
  },
  {
   "cell_type": "markdown",
   "id": "3164a874",
   "metadata": {},
   "source": [
    "From the plot we can tell that there seems to be 3 zeros in this region, one around 0.4, one around 1.2 and one around 2  A brute force algorithm is to run through all points in our region of interest and check if one point is below the x axis and if the next point is above the x axis, or the other way around. if that happens then y is zero between those 2 points\n",
    "\n",
    "At each stage we want to check if $y_{i}<0$ and $y_{i+1}>0$ (or the other way around). for both checks is $y_{i}y_{i+1}<0$. If so, then y is 0 between $x_i$ and $x_{i+1}$. Assuming a linear variation of the funcion f between $x_{i}$ and $x_{i+1}$, we have the approximation\n",
    "\n",
    "$f(x)\\approx \\frac{y_{i+1}−y_{i}}{x_{i+1}−x_{i}}(x−xi)+ y_i$\n",
    "\n",
    "We may solve for x when $f(x)=0$ such that we obtain:\n",
    "\n",
    "$x=x_{i}− \\frac{x_{i+1}−x_{i}}{y_{i+1}−y_{i}} yi$\n",
    "\n",
    "Then for the algorithm we simply check whether the condition is fulfilled, if it is then we compute x using our grid and stop searching for roots. A naive implementation of the method can be found below"
   ]
  },
  {
   "cell_type": "code",
   "execution_count": 4,
   "id": "c3f911fe-0c2f-428c-b03e-1c4ccaf08748",
   "metadata": {},
   "outputs": [
    {
     "name": "stdout",
     "output_type": "stream",
     "text": [
      "Found a root at x=0.392699\r\n"
     ]
    }
   ],
   "source": [
    "x = linspace(0, 0.5, 100001);\n",
    "y = f(x);\n",
    "\n",
    "root = NaN;  % Initialization value\n",
    "for i = 1:(length(x)-1) \n",
    "    if y(i)*y(i+1) < 0\n",
    "         root = x(i) - (x(i+1) - x(i))/(y(i+1) - y(i))*y(i);\n",
    "         break;  % Jump out of loop\n",
    "    end\n",
    "end\n",
    "if isnan(root)\n",
    "    fprintf('Could not find any root in the interval [%g, %g]\\n', x(1), x(end));\n",
    "else\n",
    "    fprintf('Found a root at x=%g\\n', root);\n",
    "end"
   ]
  },
  {
   "cell_type": "markdown",
   "id": "0af59342",
   "metadata": {},
   "source": [
    "**Task**: Generalize this function so that it finds all roots on the given interval, you may use the template for the function below or define it from scratch, test it on f on [0,3]"
   ]
  },
  {
   "cell_type": "code",
   "execution_count": 5,
   "id": "6d31d663-90c0-474a-bc59-bc860a8b408f",
   "metadata": {},
   "outputs": [],
   "source": [
    "function all_roots = brute_force(f,a, b, n)\n",
    "    x = linspace(a, b, n);\n",
    "    y = f(x);\n",
    "    roots = [];\n",
    "    for i = 1:(n-1)\n",
    "        if  < 0 % complete the comparison\n",
    "            root = ;% complete this function\n",
    "            roots = [roots; root];\n",
    "        end\n",
    "    end\n",
    "    if isempty(roots)\n",
    "    fprintf('Could not find any root in the interval [%g, %g]\\n', x(1), x(end));\n",
    "    else\n",
    "    fprintf('Found a root at x=%g\\n', roots);\n",
    "    end\n",
    "    all_roots = roots;\n",
    "end"
   ]
  },
  {
   "cell_type": "code",
   "execution_count": 6,
   "id": "7f99feb2",
   "metadata": {},
   "outputs": [
    {
     "name": "stdout",
     "output_type": "stream",
     "text": [
      "Found a root at x=0.392699\r\n",
      "Found a root at x=1.1781\r\n",
      "Found a root at x=1.9635\r\n",
      "Found a root at x=2.74889\r\n",
      "ans =\r\n",
      "\r\n",
      "   0.39270\r\n",
      "   1.17810\r\n",
      "   1.96350\r\n",
      "   2.74889\r\n",
      "\r\n"
     ]
    }
   ],
   "source": [
    "brute_force(@f,0,3, 10000)"
   ]
  },
  {
   "cell_type": "markdown",
   "id": "a8127451",
   "metadata": {},
   "source": [
    "# Newton-Raphson method"
   ]
  },
  {
   "cell_type": "markdown",
   "id": "a74f9ec1",
   "metadata": {},
   "source": [
    "The geometrical intuition about the Newton Raphson method is to start at a given point, an initial guess and follow the tangent line to the curve at that point, the next guess is the point at which the tangent line is zero. We keep iterating this until we find $f(x)\\approx 0$ each iteration getting us closer to such x, let us now briefly visualize this with the help of octave on \n",
    "\n",
    "\\begin{equation}\n",
    "f(x)=x^{2}-4\n",
    "\\end{equation}"
   ]
  },
  {
   "cell_type": "code",
   "execution_count": 7,
   "id": "f9e1bbec-4130-4410-b215-e92a971271a0",
   "metadata": {},
   "outputs": [],
   "source": [
    "function result =f2(x)\n",
    "    result=x.^2 .- 4;\n",
    "end"
   ]
  },
  {
   "cell_type": "markdown",
   "id": "700ca6c7",
   "metadata": {},
   "source": [
    "The slope of the tangent line is equal to the derivative of the curve, so for this method we need the derivative of f(x) (we may also estimate it numerically using the definition of derivative)"
   ]
  },
  {
   "cell_type": "code",
   "execution_count": 18,
   "id": "7b43cdd5-0aa0-4da0-b1a4-d246cdf63934",
   "metadata": {},
   "outputs": [],
   "source": [
    "function result = dfdx(x)\n",
    "    result=2*x;\n",
    "end"
   ]
  },
  {
   "cell_type": "code",
   "execution_count": 9,
   "id": "31602245",
   "metadata": {},
   "outputs": [],
   "source": [
    "function tangent=t(x,y)\n",
    "tangent=dfdx(y).*(x-y) .+f2(y);\n",
    "end"
   ]
  },
  {
   "cell_type": "markdown",
   "id": "580a79db",
   "metadata": {},
   "source": [
    "Let us say that the initial guess for our root is $x_{0}=10$, then let us plot the curve and its tangent line"
   ]
  },
  {
   "cell_type": "code",
   "execution_count": 10,
   "id": "58706fc7",
   "metadata": {},
   "outputs": [
    {
     "data": {
      "image/png": "[encoded data removed]",
      "text/plain": [
       "<IPython.core.display.Image object>"
      ]
     },
     "metadata": {},
     "output_type": "display_data"
    }
   ],
   "source": [
    "x=linspace(-10,10,100);\n",
    "plot(x,f2(x))\n",
    "hold on,plot(x,t(x,10))\n",
    "xlim([0,10])\n",
    "ylim([0,100])"
   ]
  },
  {
   "cell_type": "code",
   "execution_count": 11,
   "id": "f7b03bd1",
   "metadata": {},
   "outputs": [
    {
     "name": "stdout",
     "output_type": "stream",
     "text": [
      "Found a root at x=5.2\r\n",
      "z =  5.2000\r\n"
     ]
    }
   ],
   "source": [
    "z=brute_force(@(x) t(x,10),0,10,100) # point at which the tangent line is zero"
   ]
  },
  {
   "cell_type": "markdown",
   "id": "bd8bd7ff",
   "metadata": {},
   "source": [
    "we continue with $x_{1}=5.2$"
   ]
  },
  {
   "cell_type": "code",
   "execution_count": 12,
   "id": "cc5232e2",
   "metadata": {},
   "outputs": [
    {
     "data": {
      "image/png": "[encoded data removed]",
      "text/plain": [
       "<IPython.core.display.Image object>"
      ]
     },
     "metadata": {},
     "output_type": "display_data"
    }
   ],
   "source": [
    "x=linspace(-10,10,100);\n",
    "#yTangentLine = slope * (x - xTangent) + yTangent;\n",
    "plot(x,f2(x))\n",
    "hold on,plot(x,t(x,5.2))\n",
    "xlim([-5,10])\n",
    "ylim([-5,100])"
   ]
  },
  {
   "cell_type": "markdown",
   "id": "ff797d85",
   "metadata": {},
   "source": [
    "And continue this process as we get closer and closer to the solution\n",
    "\n"
   ]
  },
  {
   "cell_type": "markdown",
   "id": "23b12591",
   "metadata": {},
   "source": [
    "Now that we have some idea about the geometrical intuituon let us actually apply the method, now we previously defined the tangent line at the point which was given by:\n",
    "\n",
    "\\begin{equation}\n",
    "T(x)= f'(x) (x-x_{0})+f(x_{0})\n",
    "\\end{equation}\n",
    "\n",
    "Now, we want to see where the tangent is 0 such that\n",
    "\n",
    "\\begin{equation}\n",
    "x= x_{0}-\\frac{f(x_{0})}{f'(x_{0})}\n",
    "\\end{equation}\n",
    "\n",
    "where $x_{0}$ is our guess, we stop the method whenever $|f(x)|<\\epsilon$, where $\\epsilon$ is some small number we choose arbitrarily as threshold (remember that due to floating point error we may never get 0 so checking $|f(x)|=0$ would be a bad idea)"
   ]
  },
  {
   "cell_type": "code",
   "execution_count": 13,
   "id": "7dc5cff1-115a-4d5c-b6c7-dbe86dd641c4",
   "metadata": {},
   "outputs": [],
   "source": [
    "function [result,c] = naive_Newton(f,df,starting_value,eps)\n",
    "    x = starting_value;\n",
    "    c=0;\n",
    "    while abs(f(x)) > eps\n",
    "        x = x - f(x)/df(x);\n",
    "        c+=1; # count the number of iterations\n",
    "    end\n",
    "    result = x;\n",
    "end"
   ]
  },
  {
   "cell_type": "code",
   "execution_count": 14,
   "id": "c953bb4c-9ad0-4cf9-8813-f0ab78fdd559",
   "metadata": {},
   "outputs": [
    {
     "name": "stdout",
     "output_type": "stream",
     "text": [
      "result =  2.0000\r\n",
      "c =  6\r\n"
     ]
    }
   ],
   "source": [
    "[result,c]=naive_Newton(@f2,@dfdx,0.5,eps=0.000001)"
   ]
  },
  {
   "cell_type": "code",
   "execution_count": 15,
   "id": "7fae64ce-b684-4e4a-a2ce-3b909eeda046",
   "metadata": {},
   "outputs": [
    {
     "name": "stdout",
     "output_type": "stream",
     "text": [
      "ans =    1.0125e-13\r\n"
     ]
    }
   ],
   "source": [
    "f2(result)"
   ]
  },
  {
   "cell_type": "markdown",
   "id": "3d87c014",
   "metadata": {},
   "source": [
    "**Task**: Now, while newton's method is good it doesn't guarantee convergence and some choices of initial guess might go terribly wrong, for example try to find the roots of $x^{2}+1$ using 1.2 as an initial guess.\n",
    "\n",
    "Does it ever happen? why?\n",
    "\n",
    "What do you need to modify so that our implementation of the method finds those roots?\n",
    "\n",
    "Modify the method so that it would work with 1.2 as an initial guess \n",
    "\n",
    "**Hint**: Think about the kind of numbers you are using as well as the numerical standard used to represent them"
   ]
  },
  {
   "cell_type": "markdown",
   "id": "1444e5fb",
   "metadata": {},
   "source": [
    "**Task** Use Newtons method on tanh(x), use $x_{0}=1.08$, now use $x_{0}=1.09$ \n",
    "\n",
    "did the results change? If so explain what happened?"
   ]
  },
  {
   "cell_type": "markdown",
   "id": "237bc6a1",
   "metadata": {},
   "source": [
    "# Bisection Method"
   ]
  },
  {
   "cell_type": "markdown",
   "id": "32fdfc42",
   "metadata": {},
   "source": [
    "From the previous task we can guess that in certain situations Newton's method may fail, so it does not guarantee that a solution will be found (When indeeed there is one). The brute force method will indeed find it, so it's more reliable. However it samples all of the points in our grid so it is not too efficient. The bisection method is simply a modification of the brute force method which makes it more efficient by reducing the number of sampled points, however it is still less efficient than Newton's method.\n",
    "\n",
    "The main difference between this method and the brute force is to divide the interval into two equal parts, one on the left and one on the right of the midpoint ($x_{M}$). by evaluating the sign of $f(x_{M})$, we can inmediatly know whether a solution exists on the right or the left of $X{M}$\n",
    "\n",
    "We then proceed repeat this with half the interval only unless $|f(x)|\\approx 0$ in which case a solution is found, so the only difference with respect to the brute force is that we check whether the solution may be on a subinterval and then reduce our search space.\n",
    "\n",
    "**Task**: Complete the function below, to compute the bisection method or define your own"
   ]
  },
  {
   "cell_type": "code",
   "execution_count": 16,
   "id": "5eab3352-5e6b-414c-ae4d-eab367b9dbc1",
   "metadata": {},
   "outputs": [],
   "source": [
    "function [midpoint, counter] = bisection(f, x_L, x_R, eps)\n",
    "    if f(x_L)*f(x_R) > 0\n",
    "        fprintf('Error! Function does not have opposite\\n');\n",
    "        fprintf('signs at interval endpoints! \\n')\n",
    "        fprintf('no roots seem to be there in this interval')\n",
    "        exit(1)\n",
    "    end\n",
    "    x_M = (x_L + x_R)/2.0;% midpoint\n",
    "    f_M = f(x_M);\n",
    "    c = 1;\n",
    "    while abs(f_M) > eps\n",
    "        left_f = f(x_L);\n",
    "        right_f = f(x_R);\n",
    "        if > 0   % same sign no root on the left, Complete this\n",
    "            x_L = x_M;\n",
    "        else\n",
    "            x_R = x_M;  % same sign no root on the right\n",
    "        end\n",
    "        x_M = ; % new midpoint Complete this line\n",
    "        f_M = f(x_M);\n",
    "        c = c + 1;\n",
    "    end\n",
    "    midpoint = x_M;\n",
    "    counter= c;\n",
    "end\n",
    "function bisection_method(f,eps,a,b)\n",
    "    [solution, no_iterations] = bisection(f, a, b, eps);\n",
    "    if solution <= b   % Solution found\n",
    "        fprintf('Number of function calls: %d\\n', 1+2*no_iterations);\n",
    "        fprintf('A solution is: %f\\n', solution);\n",
    "    else\n",
    "        fprintf('Abort execution.\\n');\n",
    "    end\n",
    "end"
   ]
  },
  {
   "cell_type": "code",
   "execution_count": 17,
   "id": "5b850427-3f7b-41cf-8bfb-6fa9ac8a3741",
   "metadata": {},
   "outputs": [
    {
     "name": "stdout",
     "output_type": "stream",
     "text": [
      "Number of function calls: 47\r\n",
      "A solution is: 2.000000\r\n"
     ]
    }
   ],
   "source": [
    "bisection_method(@f2,1e-6,0,5)"
   ]
  },
  {
   "cell_type": "markdown",
   "id": "27f26565",
   "metadata": {},
   "source": [
    "**Task**: Compare the number of iterations for the different methods, is there a big time difference between them ? could the bisection method as explained here work for expressions like $f(x)=x^{2}+1$ if so what do you need to modify?\n",
    "\n",
    "**Hint**: In case you need some help to know wheter bisection can be used look at this [video](https://www.youtube.com/watch?v=b7FxPsqfkOY&ab_channel=3Blue1Brown)"
   ]
  }
 ],
 "metadata": {
  "kernelspec": {
   "display_name": "Octave",
   "language": "octave",
   "name": "octave"
  },
  "language_info": {
   "file_extension": ".m",
   "help_links": [
    {
     "text": "GNU Octave",
     "url": "https://www.gnu.org/software/octave/support.html"
    },
    {
     "text": "Octave Kernel",
     "url": "https://github.com/Calysto/octave_kernel"
    },
    {
     "text": "MetaKernel Magics",
     "url": "https://metakernel.readthedocs.io/en/latest/source/README.html"
    }
   ],
   "mimetype": "text/x-octave",
   "name": "octave",
   "version": "5.2.0"
  }
 },
 "nbformat": 4,
 "nbformat_minor": 5
}
