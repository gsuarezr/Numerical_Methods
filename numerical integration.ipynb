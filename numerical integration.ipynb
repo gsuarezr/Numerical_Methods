{
 "cells": [
  {
   "cell_type": "markdown",
   "id": "087b12e1-7d5c-49df-86ba-2462a1ecabb1",
   "metadata": {},
   "source": [
    "$\\int_{0}^{1} e^{x/5}dx$"
   ]
  },
  {
   "cell_type": "code",
   "execution_count": 20,
   "id": "1302ba84",
   "metadata": {},
   "outputs": [
    {
     "name": "stdout",
     "output_type": "stream",
     "text": [
      "I =  1.107013790800849\n"
     ]
    }
   ],
   "source": [
    "format long, I=5*exp(1/5)-5"
   ]
  },
  {
   "cell_type": "code",
   "execution_count": 21,
   "id": "2b59a56e",
   "metadata": {},
   "outputs": [
    {
     "name": "stdout",
     "output_type": "stream",
     "text": [
      "ints =  1.107013790800849\n"
     ]
    }
   ],
   "source": [
    "ints=integral(@(x) exp(x/5),0,1)"
   ]
  },
  {
   "cell_type": "code",
   "execution_count": 22,
   "id": "96f19aff",
   "metadata": {},
   "outputs": [
    {
     "name": "stdout",
     "output_type": "stream",
     "text": [
      "ans =    4.440892098500626e-16\n"
     ]
    }
   ],
   "source": [
    "I-ints"
   ]
  },
  {
   "cell_type": "markdown",
   "id": "533404ca-54db-49d0-b10d-8e3f1b68ddca",
   "metadata": {},
   "source": [
    "$\\int_{0}^{1} e^{sin(x)}dx= ????$"
   ]
  },
  {
   "cell_type": "code",
   "execution_count": 23,
   "id": "9f7a7c63",
   "metadata": {},
   "outputs": [
    {
     "data": {
      "image/png": "[encoded data removed]",
      "text/plain": [
       "<IPython.core.display.Image object>"
      ]
     },
     "metadata": {},
     "output_type": "display_data"
    }
   ],
   "source": [
    "x=linspace(0,1,200)';\n",
    "subplot(2,1,1), fill([x;1;0],[exp(x/5);0;0],[1,0.3,0.3])\n",
    "subplot(2,1,2), fill([x;1;0],[exp(sin(x/5));0;0],[1,0.3,0.3])"
   ]
  },
  {
   "cell_type": "markdown",
   "id": "bce7ece3",
   "metadata": {},
   "source": [
    "Like in finite differences we may just look at the data points as nodes, if we assume equally spaced ones then we have:\n",
    " \n",
    " $t_{i}=a+ih$\n",
    " $h=\\frac{b-a}{n}$\n",
    " $i=0,...,n$\n",
    " \n",
    " The we may express  the integration as \n",
    " \n",
    "\n",
    "\\begin{equation}\n",
    "I=\\int_{a}^{b} f(x)dx \\approx Q = h \\sum_{i=0}^{n} \\omega_{i} f(t_{i})=h\\left( w_0 f(t_0) +w_1 f(t_1)+ .... +w_n f(t_n) \\right)\n",
    "\\end{equation}\n",
    " \n",
    " \n",
    " As with finite difference formulas the weights are independent of the functionbeing integrated. One way to derive integration formulas is to take the same approach taken for finite differences, meaning we find an interpolant and then operate on it. If we use a piecewise polynomial as an interpolant the result is [Newton-cotes formulas](https://en.wikipedia.org/wiki/Newton%E2%80%93Cotes_formulas)\n",
    "\n",
    " "
   ]
  },
  {
   "cell_type": "markdown",
   "id": "bdc5352b",
   "metadata": {},
   "source": [
    "# The trapezoid:\n",
    "\n",
    "One of the most important routines for numerical integration is the so called trapezoid formula, wic is just Newtown-Cotes for a piecewise linear interpolant. Using the basis for this interpolant (the Hat functions one may write)\n",
    "\n",
    "\\begin{equation}\n",
    "I \\approx \\int_{a}^{b} \\sum_{i=0}^{n} h f(t_{i}) H_{i}(x) dx\n",
    "\\end{equation}\n",
    "\n",
    "The weights of the quadrature in this case are simply given by:\n",
    "\n",
    "$w_{i}=h^{-1} \\int_{a}^{b} H_{i}(x)dx$\n",
    "\n",
    "**Remember that the Hat functions are given by:**\n",
    "\n",
    "\\begin{equation}\n",
    "H_{k}(x)=\\begin{cases} \n",
    "      \\frac{x-t_{k-1}}{t_{k}-t_{k-1}} & x \\in [t_{k-1},t_{k}] \\\\\n",
    "      \\frac{t_{k+1}-x}{t_{k+1}-t_{k}} & x \\in [t_{k},t_{k+1}] \\\\\n",
    "      0 & otherwise \n",
    "   \\end{cases}\n",
    "\\end{equation}"
   ]
  },
  {
   "cell_type": "code",
   "execution_count": 24,
   "id": "01c09a2b",
   "metadata": {},
   "outputs": [],
   "source": [
    "function H=hatfun(x,t,k)\n",
    "%HATFUN the piecewise linear basis function.\n",
    "% Input:\n",
    "% x the evaluation points\n",
    "% the nodes (data points)\n",
    "%k node index\n",
    "%Output: values of the kth hat function\n",
    "n=size(t)(1)-1;\n",
    "k=k+1; % so we start counting from one \n",
    "%We define a fake node for dealing with the first and last funcs H_{0},H_{n}\n",
    "t=[2*t(1) .- t(2);t(:);2*t(n+1) .- t(n)];\n",
    "k=k+1;% adjust index for this ficticius node\n",
    "\n",
    "H1=(x .- t(k-1))/(t(k) .- t(k-1)); %upward slope\n",
    "H2=(t(k+1) .- x)/(t(k+1) .- t(k)); %downword\n",
    "\n",
    "H=min(H1,H2);\n",
    "H=max(0,H);\n",
    "end"
   ]
  },
  {
   "cell_type": "code",
   "execution_count": 25,
   "id": "f4ac091f",
   "metadata": {},
   "outputs": [
    {
     "data": {
      "image/png": "[encoded data removed]",
      "text/plain": [
       "<IPython.core.display.Image object>"
      ]
     },
     "metadata": {},
     "output_type": "display_data"
    }
   ],
   "source": [
    "t=[0 0.25 0.5 0.75 1]';\n",
    "x=linspace(0,1,1000);\n",
    "for k=0:4\n",
    "    y=hatfun(x,t,k);\n",
    "    plot(x, y)\n",
    "    hold on\n",
    "end\n",
    "xlabel('x')\n",
    "ylabel('H_{k}(x)')\n",
    "title('Hat functions')"
   ]
  },
  {
   "cell_type": "markdown",
   "id": "531a46ed",
   "metadata": {},
   "source": [
    " From computing the area of a triangle we can see that the weights are simply\n",
    " \n",
    " \\begin{equation}\n",
    " w_{i}= \\begin{cases} \n",
    "      1 &  i=1,....,n-1 \\\\\n",
    "      \\frac{1}{2}&  i=0,n \\\\\n",
    "   \\end{cases}\n",
    " \\end{equation}\n",
    " \n",
    " So we may finally write the trapezoid rule formula as:\n",
    " \n",
    " $I\\approx h \\left( \\frac{1}{2} f(t_{0}) + f(t_{1}) + .... +\\frac{f(t_{n})}{2}\\right)=T_{f}(n)$"
   ]
  },
  {
   "cell_type": "code",
   "execution_count": 26,
   "id": "41727f1f",
   "metadata": {},
   "outputs": [],
   "source": [
    "function [T,t,y]=trapezoid(f,a,b,n)\n",
    "% Trapezoid formula for numeric integration\n",
    "%input:\n",
    "% f the function to be integrated\n",
    "% a,b the integral limits\n",
    "%n the number of divisions\n",
    "%output:\n",
    "%T approximation to the integral of f over (a,b)\n",
    "% t vector of nodes\n",
    "% y values at nodes\n",
    "h=(b-a)/n;\n",
    "t=a+h*(0:n)';\n",
    "y=f(t);\n",
    "T=h*(sum(y(2:n)))+0*5*(y(1)+y(n+1));\n",
    "end"
   ]
  },
  {
   "cell_type": "code",
   "execution_count": 27,
   "id": "15e1769a",
   "metadata": {},
   "outputs": [
    {
     "name": "stdout",
     "output_type": "stream",
     "text": [
      "I =    3.946950299855745e-01\n",
      "I2 =  2.663219782761539\n"
     ]
    }
   ],
   "source": [
    "f=@(x) exp(sin(7*x));\n",
    "a=0;\n",
    "b=2;\n",
    "I=-5*cos(2/5)+5*cos(0)\n",
    "I2=integral(f,a,b,'abstol',1e-14,'reltol',1e-14)\n",
    "#I-I2"
   ]
  },
  {
   "cell_type": "code",
   "execution_count": 28,
   "id": "9189d99d",
   "metadata": {},
   "outputs": [
    {
     "name": "stdout",
     "output_type": "stream",
     "text": [
      "T =  2.569981197967154\n"
     ]
    }
   ],
   "source": [
    "T=trapezoid(f,a,b,40)"
   ]
  },
  {
   "cell_type": "code",
   "execution_count": 29,
   "id": "b9017daf",
   "metadata": {},
   "outputs": [],
   "source": [
    "err=I2-T;"
   ]
  },
  {
   "cell_type": "code",
   "execution_count": 30,
   "id": "ec8ace3e",
   "metadata": {},
   "outputs": [],
   "source": [
    "n=40* (2.^(0:5))';\n",
    "err=zeros(size(n));\n",
    "for k=1:length(n)\n",
    "    T=trapezoid(f,a,b,n(k));\n",
    "    err(k)=I2-T;\n",
    "end"
   ]
  },
  {
   "cell_type": "code",
   "execution_count": 31,
   "id": "1c5e5692",
   "metadata": {},
   "outputs": [
    {
     "data": {
      "image/png": "[encoded data removed]",
      "text/plain": [
       "<IPython.core.display.Image object>"
      ]
     },
     "metadata": {},
     "output_type": "display_data"
    }
   ],
   "source": [
    "plot(n,abs(err))"
   ]
  },
  {
   "cell_type": "markdown",
   "id": "ec6735ab",
   "metadata": {},
   "source": [
    "The leading order term in error is $h^{2}$, we can see this from yhe eurler maclauring formula (f is now multplied by h since we are approximating our quadrature with a multiplication by that factor)\n",
    "\n",
    "\\begin{eqnarray}\n",
    "\\int_{a}^{b} f(x) dx = T_{f}(n) - \\frac{h^{2}}{12} \\left[ f'(b)-f'(a) \\right]+ \\frac{h^{4}}{740} \\left[ f'''(b)-f'''(a) \\right] + O(6) \\\\\n",
    "=  T_{f}(n)- \\sum_{k=1}^{\\infty} \\frac{B_{2k}h^{2 k}}{2k!} f^{2k-1}(b)-f^{2k-1}(a)\n",
    "\\end{eqnarray}\n",
    "\n",
    "So our leading error is $h^{2}$ unless we are lucky enough that $f'(a)-f'(b)=0$"
   ]
  },
  {
   "cell_type": "code",
   "execution_count": 32,
   "id": "bc29f763",
   "metadata": {},
   "outputs": [
    {
     "data": {
      "image/png": "[encoded data removed]",
      "text/plain": [
       "<IPython.core.display.Image object>"
      ]
     },
     "metadata": {},
     "output_type": "display_data"
    }
   ],
   "source": [
    "plot(n,abs(err),'.-')\n",
    "hold on,plot(n,(n/n(1)).^(-2),'--')"
   ]
  },
  {
   "cell_type": "markdown",
   "id": "10da5783",
   "metadata": {},
   "source": [
    "# Extrapolation"
   ]
  },
  {
   "cell_type": "markdown",
   "id": "67a83e4d",
   "metadata": {},
   "source": [
    "Sometimes evaluating the function may be computationally expensive, we want to get as accurate as we can with the less number of node evaluations for that we may use a higher order formula.\n",
    "\n",
    "Since we know the structure of the error we may use extrapolation to improve accuracy. Supose some quantity A_{0} is approximated by an algorithm A(h) with error expansion:\n",
    "\n",
    "$=A_{0}=A_{h}+c_{1}h+c_{2}*h^2+....$\n",
    "\n",
    "Then applying the trapezoid formula would yield:\n",
    "\n",
    "$I=T_{f}(n)+c_{2}h^{2}+c_{4}h^{4}+ ...$\n",
    "\n",
    "IF we rewrite this expansion as n=O(h^{-1}) then \n",
    "\n",
    "\n",
    "$I=T_{f}(n)+c_{2}n^{-2}+c_{4}n^{-4}+ ...$\n",
    "\n",
    "If we then double the number of steps\n",
    "\n",
    "$I=T_{f}(2 n)+c_{2}(2n)^{-2}+c_{4}(2n)^{-4}+ ...$\n",
    "\n",
    "Then we may come out with a linear combination that cancels the second order error. Specifically we may use:\n",
    "\n",
    "$S_{f}(2n)=\\frac{1}{3} \\left[ 4 T_{f}(2n) -T_{f}(n)\\right]$\n",
    "\n",
    "Then we may write \n",
    "\n",
    "$I=S_{f}(2n)+O(n^{-4})$\n",
    "\n",
    "This formula is known as Simpson's rule for integration\n",
    "\n",
    "**Task** This formula can be derived without using extrapolation, you can derive it with the interpolant\n",
    "\n",
    "$p(x) = \\beta + \\frac{\\gamma-\\alpha}{2h}\\, x + \\frac{\\alpha-2\\beta+\\gamma}{2h^2}\\, x^2$\n",
    "\n",
    "Using this, derive Simpson's Rule\n",
    "\n",
    "One may also use extrapolation again, by doubling the nodes one obtains what is known as Romberg's rule for integration which is given by\n",
    "\n",
    "$R_f(4n) = \\frac{1}{15} \\Bigl[ 16 S_f(4n) - S_f(2n) \\Bigr],$"
   ]
  },
  {
   "cell_type": "markdown",
   "id": "be5b9e0c-2a4f-4325-bcb9-ae995368c2e9",
   "metadata": {},
   "source": [
    "$\\int_{0}^{2} x^{2} e^{-2 x}$"
   ]
  },
  {
   "cell_type": "code",
   "execution_count": 40,
   "id": "8682a1c7",
   "metadata": {},
   "outputs": [
    {
     "name": "stdout",
     "output_type": "stream",
     "text": [
      "I =    1.904741736116139e-01\n"
     ]
    }
   ],
   "source": [
    "f=@(x) x.^2 .* exp(-2*x);\n",
    "a=0;\n",
    "b=2;\n",
    "I=integral(f,a,b,'abstol',1e-14,'reltol',1e-14)"
   ]
  },
  {
   "cell_type": "markdown",
   "id": "ac685637",
   "metadata": {},
   "source": [
    "#### Trapezoid"
   ]
  },
  {
   "cell_type": "code",
   "execution_count": 41,
   "id": "a371fbd9",
   "metadata": {},
   "outputs": [],
   "source": [
    "N=20;\n",
    "h=(b-a)/N;\n",
    "t=h*(0:N)';\n",
    "y=f(t);"
   ]
  },
  {
   "cell_type": "code",
   "execution_count": 42,
   "id": "34aed14e",
   "metadata": {},
   "outputs": [],
   "source": [
    "T=h*(sum(y(2:N))+0.5*(y(1)+y(N+1)));"
   ]
  },
  {
   "cell_type": "code",
   "execution_count": 43,
   "id": "d5f4712f",
   "metadata": {},
   "outputs": [
    {
     "name": "stdout",
     "output_type": "stream",
     "text": [
      "ans =    6.272367234608223e-05\n"
     ]
    }
   ],
   "source": [
    "I-T"
   ]
  },
  {
   "cell_type": "markdown",
   "id": "36acd19a",
   "metadata": {},
   "source": [
    "We now double n"
   ]
  },
  {
   "cell_type": "code",
   "execution_count": 44,
   "id": "d62dfec5",
   "metadata": {},
   "outputs": [
    {
     "name": "stdout",
     "output_type": "stream",
     "text": [
      "err =\n",
      "\n",
      "   6.272367234608223e-05   1.536775210217445e-05\n",
      "\n"
     ]
    }
   ],
   "source": [
    "n=2*N;\n",
    "h=h/2;\n",
    "t=h*(0:n)';\n",
    "T(2)=T(1)/2+h*sum(f(t(2:2:n)));\n",
    "err=I-T"
   ]
  },
  {
   "cell_type": "code",
   "execution_count": 45,
   "id": "40489752",
   "metadata": {},
   "outputs": [
    {
     "name": "stdout",
     "output_type": "stream",
     "text": [
      "ans =  4.081512502873285\n"
     ]
    }
   ],
   "source": [
    "err(1)/err(2)"
   ]
  },
  {
   "cell_type": "code",
   "execution_count": 46,
   "id": "81c99aa6",
   "metadata": {},
   "outputs": [
    {
     "name": "stdout",
     "output_type": "stream",
     "text": [
      "err =\n",
      "\n",
      "   6.272367234608223e-05   1.536775210217445e-05   3.822306969630818e-06\n",
      "\n"
     ]
    }
   ],
   "source": [
    "n=2*n;\n",
    "h=h/2;\n",
    "t=h*(0:n)';\n",
    "T(3)=T(2)/2 + h*sum(f(t(2:2:n)));\n",
    "err=I-T"
   ]
  },
  {
   "cell_type": "markdown",
   "id": "6ca92d95",
   "metadata": {},
   "source": [
    "#### Simpson's rule"
   ]
  },
  {
   "cell_type": "code",
   "execution_count": 47,
   "id": "cb3cbc90",
   "metadata": {},
   "outputs": [
    {
     "name": "stdout",
     "output_type": "stream",
     "text": [
      "ans =\n",
      "\n",
      "  -4.175546458040635e-07  -2.617474120780727e-08\n",
      "\n"
     ]
    }
   ],
   "source": [
    "S=(4*T(2:3)-T(1:2))/3;\n",
    "I-S"
   ]
  },
  {
   "cell_type": "markdown",
   "id": "611a0ff7",
   "metadata": {},
   "source": [
    "#### Romberg rule:"
   ]
  },
  {
   "cell_type": "code",
   "execution_count": 48,
   "id": "3ad93491",
   "metadata": {},
   "outputs": [
    {
     "name": "stdout",
     "output_type": "stream",
     "text": [
      "ans =   -8.274758656057202e-11\n"
     ]
    }
   ],
   "source": [
    "R=(16*S(2)-S(1))/15;\n",
    "I-R"
   ]
  },
  {
   "cell_type": "code",
   "execution_count": null,
   "id": "5966d3ca",
   "metadata": {},
   "outputs": [],
   "source": []
  }
 ],
 "metadata": {
  "kernelspec": {
   "display_name": "Octave",
   "language": "octave",
   "name": "octave"
  },
  "language_info": {
   "file_extension": ".m",
   "help_links": [
    {
     "text": "GNU Octave",
     "url": "https://www.gnu.org/software/octave/support.html"
    },
    {
     "text": "Octave Kernel",
     "url": "https://github.com/Calysto/octave_kernel"
    },
    {
     "text": "MetaKernel Magics",
     "url": "https://metakernel.readthedocs.io/en/latest/source/README.html"
    }
   ],
   "mimetype": "text/x-octave",
   "name": "octave",
   "version": "5.2.0"
  }
 },
 "nbformat": 4,
 "nbformat_minor": 5
}
