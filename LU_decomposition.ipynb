{
 "cells": [
  {
   "cell_type": "markdown",
   "id": "7c3b8005",
   "metadata": {},
   "source": [
    "# LU decomposition"
   ]
  },
  {
   "cell_type": "markdown",
   "id": "9324aa3d-41fa-48d6-a0f3-d772b4ae944a",
   "metadata": {
    "tags": []
   },
   "source": [
    "### Matrices and Vectors In octave"
   ]
  },
  {
   "cell_type": "markdown",
   "id": "f02f2b1b",
   "metadata": {},
   "source": [
    "In octave vectors and matrices are written in a similar way, to separate elements of a row we simply leave a space between them, to get to the next row we simply use a semicolon ;. Knowing this we may define row vectors, column vectors and matrices:"
   ]
  },
  {
   "cell_type": "code",
   "execution_count": 1,
   "id": "17478618-59c9-45eb-8172-03a4cf04db2f",
   "metadata": {},
   "outputs": [
    {
     "data": {
      "text/latex": [
       "$$ v = \\begin{bmatrix} 0 & 1 & 2 & 3 & 4 \\end{bmatrix}$$"
      ],
      "text/plain": [
       "v =    0   1   2   3   4\n"
      ]
     },
     "metadata": {},
     "output_type": "display_data"
    }
   ],
   "source": [
    "displayformat matrix latex; ## Command only works in xeus-octave, and it's meant for pretty printing, if you are using a different\n",
    "#version or matlab this will give an error\n",
    "v=[0 1 2 3 4] # row vector"
   ]
  },
  {
   "cell_type": "code",
   "execution_count": 2,
   "id": "a57e2170",
   "metadata": {},
   "outputs": [
    {
     "data": {
      "text/latex": [
       "$$ v = \\begin{bmatrix} 0 \\\\ 1 \\\\ 2 \\\\ 3 \\\\ 4 \\end{bmatrix}$$"
      ],
      "text/plain": [
       "v =    0\n",
       "   1\n",
       "   2\n",
       "   3\n",
       "   4\n"
      ]
     },
     "metadata": {},
     "output_type": "display_data"
    }
   ],
   "source": [
    "v=[0 ;1 ;2 ;3; 4] # column vector"
   ]
  },
  {
   "cell_type": "code",
   "execution_count": 4,
   "id": "48b6219e-58cf-4547-a42e-000f4ead4203",
   "metadata": {},
   "outputs": [
    {
     "data": {
      "text/latex": [
       "$$ m = \\begin{bmatrix} 0 & 1 & 2 & 3 \\\\ 4 & 5 & 6 & 7 \\\\ 8 & 9 & 10 & 11 \\\\ 12 & 13 & 14 & 15 \\end{bmatrix}$$"
      ],
      "text/plain": [
       "m =     0    1    2    3\n",
       "    4    5    6    7\n",
       "    8    9   10   11\n",
       "   12   13   14   15\n"
      ]
     },
     "metadata": {},
     "output_type": "display_data"
    }
   ],
   "source": [
    "m=[0 1 2 3;4 5 6 7; 8 9 10 11;12 13 14 15]# matrix"
   ]
  },
  {
   "cell_type": "markdown",
   "id": "9f903cc8",
   "metadata": {},
   "source": [
    "In octave transposition is done with the ' character, one thing to be aware about is that this also the dagger operation meaning that for complex matrices it also performs conjugation"
   ]
  },
  {
   "cell_type": "code",
   "execution_count": 5,
   "id": "6ff1cf01-c7d0-4209-9d67-3e83a8df727b",
   "metadata": {},
   "outputs": [
    {
     "data": {
      "text/latex": [
       "$$ p = \\begin{bmatrix} 1 & 0 & 0 & 0 \\\\ 0 & 1 & 0 & 0 \\\\ 0 & 0 & 0 & 1 \\\\ 0 & 0 & 1 & 0 \\end{bmatrix}$$"
      ],
      "text/plain": [
       "p =    1   0   0   0\n",
       "   0   1   0   0\n",
       "   0   0   0   1\n",
       "   0   0   1   0\n"
      ]
     },
     "metadata": {},
     "output_type": "display_data"
    }
   ],
   "source": [
    "p=[1 0 0 0; 0 1 0 0; 0 0 0 1; 0 0 1 0]"
   ]
  },
  {
   "cell_type": "code",
   "execution_count": 6,
   "id": "c8852c7b-1b38-4c22-b6c5-a90095701aa4",
   "metadata": {},
   "outputs": [
    {
     "data": {
      "text/latex": [
       "$$ ans = \\begin{bmatrix} 1 & 0 & 0 & 0 \\\\ 0 & 1 & 0 & 0 \\\\ 0 & 0 & 0 & 1 \\\\ 0 & 0 & 1 & 0 \\end{bmatrix}$$"
      ],
      "text/plain": [
       "ans =    1   0   0   0\n",
       "   0   1   0   0\n",
       "   0   0   0   1\n",
       "   0   0   1   0\n"
      ]
     },
     "metadata": {},
     "output_type": "display_data"
    }
   ],
   "source": [
    "p'"
   ]
  },
  {
   "cell_type": "markdown",
   "id": "146123c2",
   "metadata": {},
   "source": [
    "Finding eigenvalues, eigenvectors and so on in octave is fairly straightforward\n",
    "\n",
    "The determinant is obtained with the det function, eigevalues and eigenvectors with eig"
   ]
  },
  {
   "cell_type": "code",
   "execution_count": 7,
   "id": "c96b6b42-aad9-4cdf-827a-5d2d05ca43e4",
   "metadata": {},
   "outputs": [
    {
     "data": {
      "text/plain": [
       "ans = -1\n"
      ]
     },
     "metadata": {},
     "output_type": "display_data"
    }
   ],
   "source": [
    "det(p)"
   ]
  },
  {
   "cell_type": "code",
   "execution_count": 8,
   "id": "a6a37451-8a99-4dca-9676-4818fee9fb65",
   "metadata": {},
   "outputs": [
    {
     "data": {
      "text/latex": [
       "$$ ans = \\begin{bmatrix} -1 \\\\ 1 \\\\ 1 \\\\ 1 \\end{bmatrix}$$"
      ],
      "text/plain": [
       "ans =   -1\n",
       "   1\n",
       "   1\n",
       "   1\n"
      ]
     },
     "metadata": {},
     "output_type": "display_data"
    }
   ],
   "source": [
    "eig(p) #eigenvalues by default"
   ]
  },
  {
   "cell_type": "code",
   "execution_count": 9,
   "id": "857bc619",
   "metadata": {},
   "outputs": [
    {
     "data": {
      "text/latex": [
       "$$ eivects = \\begin{bmatrix} 0 & 0 & 0 & 1 \\\\ 0 & 1 & 0 & 0 \\\\ -0.707107 & 0 & 0.707107 & 0 \\\\ 0.707107 & 0 & 0.707107 & 0 \\end{bmatrix}$$"
      ],
      "text/plain": [
       "eivects =         0        0        0   1.0000\n",
       "        0   1.0000        0        0\n",
       "  -0.7071        0   0.7071        0\n",
       "   0.7071        0   0.7071        0\n"
      ]
     },
     "metadata": {},
     "output_type": "display_data"
    },
    {
     "data": {
      "text/plain": [
       "eigvals = Diagonal Matrix\n",
       "\n",
       "  -1   0   0   0\n",
       "   0   1   0   0\n",
       "   0   0   1   0\n",
       "   0   0   0   1\n"
      ]
     },
     "metadata": {},
     "output_type": "display_data"
    }
   ],
   "source": [
    "[eivects,eigvals]=eig(p)"
   ]
  },
  {
   "cell_type": "markdown",
   "id": "0e24469f",
   "metadata": {},
   "source": [
    "Eigenvectors come as a matrix so one needs to do  little matrix indexing to recover the actual vectors, In octave one can index elements of a matrix using parenthesis\n",
    "\n",
    "\n",
    "A(row,column)\n",
    "\n",
    "\n",
    "in octave : means all elements so for example the element A_{1,1}\n",
    "\n",
    "may be obtained by A(1,1) \n",
    "\n",
    "While the first row of A may be obtained by A(:,1)"
   ]
  },
  {
   "cell_type": "code",
   "execution_count": 10,
   "id": "27ab973a",
   "metadata": {},
   "outputs": [
    {
     "data": {
      "text/latex": [
       "$$ ans = \\begin{bmatrix} 0 \\\\ 0 \\\\ -0.707107 \\\\ 0.707107 \\end{bmatrix}$$"
      ],
      "text/plain": [
       "ans =         0\n",
       "        0\n",
       "  -0.7071\n",
       "   0.7071\n"
      ]
     },
     "metadata": {},
     "output_type": "display_data"
    }
   ],
   "source": [
    "eivects(:,1)"
   ]
  },
  {
   "cell_type": "markdown",
   "id": "8925aec3",
   "metadata": {},
   "source": [
    "We check that it is indeed an eigenvector"
   ]
  },
  {
   "cell_type": "code",
   "execution_count": 11,
   "id": "d28f32d2",
   "metadata": {},
   "outputs": [
    {
     "data": {
      "text/latex": [
       "$$ ans = \\begin{bmatrix} 0 \\\\ 0 \\\\ 0.707107 \\\\ -0.707107 \\end{bmatrix}$$"
      ],
      "text/plain": [
       "ans =         0\n",
       "        0\n",
       "   0.7071\n",
       "  -0.7071\n"
      ]
     },
     "metadata": {},
     "output_type": "display_data"
    }
   ],
   "source": [
    "p*eivects(:,1)"
   ]
  },
  {
   "cell_type": "markdown",
   "id": "df0e10a2",
   "metadata": {},
   "source": [
    "The upper bound on the error of numerical linear algebra calculations is the so called [condition number](https://en.wikipedia.org/wiki/Condition_number#Matrices) which is defined as the ratio of the maximal and singular values of a matrix, if the condition number is big with respect to 1 (by several orders of magnitude, one order of magnitude roughly translates in loosing a digit of accuracy), then we might expect incorrect results from whatever calculations we do with this matrix"
   ]
  },
  {
   "cell_type": "code",
   "execution_count": 12,
   "id": "31a0ca00-271e-4be1-8180-dd87d8e4e4ad",
   "metadata": {},
   "outputs": [
    {
     "data": {
      "text/plain": [
       "ans = 1\n"
      ]
     },
     "metadata": {},
     "output_type": "display_data"
    }
   ],
   "source": [
    "cond(p)"
   ]
  },
  {
   "cell_type": "code",
   "execution_count": 13,
   "id": "a256829f",
   "metadata": {},
   "outputs": [
    {
     "data": {
      "text/plain": [
       "ans = 4.3520e+17\n"
      ]
     },
     "metadata": {},
     "output_type": "display_data"
    }
   ],
   "source": [
    "cond(m) # m is a singular matrix so a high condition number is expected"
   ]
  },
  {
   "cell_type": "markdown",
   "id": "3b6171cc-eb10-4378-914d-6b5d898fae7d",
   "metadata": {
    "tags": []
   },
   "source": [
    "## Linear Systems Basic Gaussian elimination\n",
    "\n",
    "Consider the system of equations \n",
    "\n",
    "\\begin{align*}\n",
    "x+2y+3z=4\\\\\n",
    "-2y-4z=6\\\\\n",
    "x-y=0\n",
    "\\end{align*}\n",
    "\n",
    "We may write in [augmented matrix form](https://en.wikipedia.org/wiki/Augmented_matrix) in octave simply by:"
   ]
  },
  {
   "cell_type": "code",
   "execution_count": 14,
   "id": "6d5020ef-6ee4-45a8-94a3-112bd7df6e77",
   "metadata": {},
   "outputs": [
    {
     "data": {
      "text/latex": [
       "$$ B = \\begin{bmatrix} 1 & 2 & 3 & 4 \\\\ 0 & -2 & -4 & 6 \\\\ 1 & -1 & 0 & 0 \\end{bmatrix}$$"
      ],
      "text/plain": [
       "B =    1   2   3   4\n",
       "   0  -2  -4   6\n",
       "   1  -1   0   0\n"
      ]
     },
     "metadata": {},
     "output_type": "display_data"
    }
   ],
   "source": [
    "B=[1 2 3 4;0 -2 -4 6;1 -1 0 0]"
   ]
  },
  {
   "cell_type": "code",
   "execution_count": 15,
   "id": "f8d5d0fe",
   "metadata": {},
   "outputs": [],
   "source": [
    "A=B(:,1:3); #we extract the system of equations\n",
    "b=B(:,4); # and the results from the augmented matrix to use them later"
   ]
  },
  {
   "cell_type": "markdown",
   "id": "473a9025",
   "metadata": {},
   "source": [
    "Now we may simply start doing gaussian elimination, the idea is to make all elements but the ones in the diagonal and last row zero, by performing elementary operations on rows (Multiplication, division and addition to other rows), to get some practice on indexing let us do this in octave"
   ]
  },
  {
   "cell_type": "code",
   "execution_count": 16,
   "id": "3d068a3f-18fe-4005-8e84-f69f19b22652",
   "metadata": {},
   "outputs": [
    {
     "data": {
      "text/latex": [
       "$$ B = \\begin{bmatrix} 1 & 2 & 3 & 4 \\\\ 0 & -2 & -4 & 6 \\\\ 0 & 3 & 3 & 4 \\end{bmatrix}$$"
      ],
      "text/plain": [
       "B =    1   2   3   4\n",
       "   0  -2  -4   6\n",
       "   0   3   3   4\n"
      ]
     },
     "metadata": {},
     "output_type": "display_data"
    }
   ],
   "source": [
    "B(3,:)=-B(3,:)+B(1,:) #Multiply last row by minus one and add the first row to it"
   ]
  },
  {
   "cell_type": "code",
   "execution_count": 17,
   "id": "54e52712-b08b-4c82-8dfd-96f5dcb4b3f0",
   "metadata": {},
   "outputs": [
    {
     "data": {
      "text/latex": [
       "$$ B = \\begin{bmatrix} 1 & 2 & 3 & 4 \\\\ 0 & -2 & -4 & 6 \\\\ -0 & -0 & 1 & -4.33333 \\end{bmatrix}$$"
      ],
      "text/plain": [
       "B =    1.0000   2.0000   3.0000   4.0000\n",
       "        0  -2.0000  -4.0000   6.0000\n",
       "        0        0   1.0000  -4.3333\n"
      ]
     },
     "metadata": {},
     "output_type": "display_data"
    }
   ],
   "source": [
    "B(3,:) =( B(3,:) + (3/2) *B(2,:))/(-3) # Change the third row by adding to it 3/2 times the second row \n",
    "# and multiplying the result by -1/3"
   ]
  },
  {
   "cell_type": "code",
   "execution_count": 18,
   "id": "7c253440-3823-4f1f-b266-94c6c1378a03",
   "metadata": {},
   "outputs": [
    {
     "data": {
      "text/latex": [
       "$$ B = \\begin{bmatrix} 1 & 2 & 3 & 4 \\\\ -0 & 1 & -0 & 5.66667 \\\\ -0 & -0 & 1 & -4.33333 \\end{bmatrix}$$"
      ],
      "text/plain": [
       "B =    1.0000   2.0000   3.0000   4.0000\n",
       "        0   1.0000        0   5.6667\n",
       "        0        0   1.0000  -4.3333\n"
      ]
     },
     "metadata": {},
     "output_type": "display_data"
    }
   ],
   "source": [
    "B(2,:)=((1/4)*B(2,:)+B(3,:))*-2 # Change the second row by multiplying it by -1/4 and add the third row to it\n",
    "# multiply everything by -2 in the end"
   ]
  },
  {
   "cell_type": "code",
   "execution_count": 19,
   "id": "b59e7afc",
   "metadata": {},
   "outputs": [
    {
     "data": {
      "text/latex": [
       "$$ B = \\begin{bmatrix} 1 & 2 & 0 & 17 \\\\ -0 & 1 & -0 & 5.66667 \\\\ -0 & -0 & 1 & -4.33333 \\end{bmatrix}$$"
      ],
      "text/plain": [
       "B =     1.0000    2.0000         0   17.0000\n",
       "         0    1.0000         0    5.6667\n",
       "         0         0    1.0000   -4.3333\n"
      ]
     },
     "metadata": {},
     "output_type": "display_data"
    }
   ],
   "source": [
    "B(1,:)=B(1,:)-3*B(3,:) # Change the first row by adding the last one times -3"
   ]
  },
  {
   "cell_type": "code",
   "execution_count": 20,
   "id": "cd459311",
   "metadata": {},
   "outputs": [
    {
     "data": {
      "text/latex": [
       "$$ B = \\begin{bmatrix} 1 & 0 & 0 & 5.66667 \\\\ -0 & 1 & -0 & 5.66667 \\\\ -0 & -0 & 1 & -4.33333 \\end{bmatrix}$$"
      ],
      "text/plain": [
       "B =    1.0000        0        0   5.6667\n",
       "        0   1.0000        0   5.6667\n",
       "        0        0   1.0000  -4.3333\n"
      ]
     },
     "metadata": {},
     "output_type": "display_data"
    }
   ],
   "source": [
    "B(1,:)=B(1,:)-2*B(2,:) # Change the first row by adding the second one times -2"
   ]
  },
  {
   "cell_type": "markdown",
   "id": "7ea42f59",
   "metadata": {},
   "source": [
    "By performing Gaussian elimination we found x=5.6667=17/3=y and z=-13/3=-4.33333"
   ]
  },
  {
   "cell_type": "markdown",
   "id": "8fa6597a-3f5f-4af7-b76c-d5de5893b7d3",
   "metadata": {
    "tags": []
   },
   "source": [
    "#### Using Left Division\n",
    "\n",
    "In Octave the built in operation for solving linear systems is called Left division, it works on systems of the form $A \\vec{x}=\\vec{b}$, What left division is equivalent to is $A^{-1} \\vec{b}$, and it is written as A\\b, so we may solve the same system by this simple command"
   ]
  },
  {
   "cell_type": "code",
   "execution_count": 21,
   "id": "4056c20f-7f35-48d7-8d6b-bd30bade404c",
   "metadata": {},
   "outputs": [
    {
     "data": {
      "text/latex": [
       "$$ ans = \\begin{bmatrix} 5.66667 \\\\ 5.66667 \\\\ -4.33333 \\end{bmatrix}$$"
      ],
      "text/plain": [
       "ans =    5.6667\n",
       "   5.6667\n",
       "  -4.3333\n"
      ]
     },
     "metadata": {},
     "output_type": "display_data"
    }
   ],
   "source": [
    "A\\b"
   ]
  },
  {
   "cell_type": "markdown",
   "id": "aaf58e21",
   "metadata": {},
   "source": [
    "We indeed see the same result"
   ]
  },
  {
   "cell_type": "markdown",
   "id": "06c6f3b2",
   "metadata": {},
   "source": [
    "\n",
    "### **Task 1**  Write the next system in augmented matrix form, and perform Gaussian elimination, check your answer using left division . What is the condition number of the system? can you trust the results you obtain from numerical computation? \n",
    "\n",
    "![System](images/fruitsystem.png)"
   ]
  },
  {
   "cell_type": "markdown",
   "id": "7f4a5671-99b4-4ff1-89d5-a173318a5a09",
   "metadata": {
    "tags": []
   },
   "source": [
    "## The LU decomposition\n",
    "\n",
    "The idea of this matrix decomposition is to write the matrix A as $A=LU$ where U is an upper triangular matrix and L is a lower triangular matrix, How to get one is similar to Gaussian elimination, let us break down the procedure, which is quite similat to the gaussian elimination we performed before, we begin by the initial matrix A, and try to make it upper diagonal by gaussian elimnation, that will be our matrix U, we however need to keep track of the factors we multiply our rows by so that we obtain zeros below the diagonal, we place minus those factors on the same position of the zeros they caused on an identity matrix, that will be our matrix L perhaps the next example will make it clearer\n",
    "\n",
    "![steps](images/steps_lu.png)\n",
    "\n"
   ]
  },
  {
   "cell_type": "code",
   "execution_count": 22,
   "id": "5746d1eb-dd79-407a-9430-0c107fc0643a",
   "metadata": {},
   "outputs": [
    {
     "data": {
      "text/latex": [
       "$$ U = \\begin{bmatrix} 1 & 2 & 3 \\\\ 0 & -2 & -4 \\\\ 0 & 0 & 3 \\end{bmatrix}$$"
      ],
      "text/plain": [
       "U =    1   2   3\n",
       "   0  -2  -4\n",
       "   0   0   3\n"
      ]
     },
     "metadata": {},
     "output_type": "display_data"
    }
   ],
   "source": [
    "U=[1 2 3;0 -2 -4;0 0 3]"
   ]
  },
  {
   "cell_type": "code",
   "execution_count": 23,
   "id": "34334ab3-4080-4429-828b-a9684eca3c11",
   "metadata": {},
   "outputs": [
    {
     "data": {
      "text/latex": [
       "$$ L = \\begin{bmatrix} 1 & 0 & 0 \\\\ 0 & 1 & 0 \\\\ 1 & 1.5 & 1 \\end{bmatrix}$$"
      ],
      "text/plain": [
       "L =    1.0000        0        0\n",
       "        0   1.0000        0\n",
       "   1.0000   1.5000   1.0000\n"
      ]
     },
     "metadata": {},
     "output_type": "display_data"
    }
   ],
   "source": [
    "L=[1 0 0;0 1 0;1 1.5 1]"
   ]
  },
  {
   "cell_type": "code",
   "execution_count": 24,
   "id": "ca144081",
   "metadata": {},
   "outputs": [
    {
     "data": {
      "text/latex": [
       "$$ ans = \\begin{bmatrix} 1 & 2 & 3 \\\\ 0 & -2 & -4 \\\\ 1 & -1 & 0 \\end{bmatrix}$$"
      ],
      "text/plain": [
       "ans =    1   2   3\n",
       "   0  -2  -4\n",
       "   1  -1   0\n"
      ]
     },
     "metadata": {},
     "output_type": "display_data"
    }
   ],
   "source": [
    "L*U #Checking the product gives A"
   ]
  },
  {
   "cell_type": "markdown",
   "id": "ac110961",
   "metadata": {},
   "source": [
    " The Lu decompostion is useful because it allows to solve determinants quite easily ( as oposed to laplace expansion as we discussed in the lecture). Let us briefly remember why:\n",
    "\n",
    "We may rewrite the determinant of A as\n",
    "\n",
    "$det(A)=det(LU)=det(L)det(U)$\n",
    "\n",
    "In general the determinant of a matrix $n \\times n$ requires us to compute n determinants of  $(n-1)\n",
    "\\times (n-1)$ matrices so you end up with something proportional to n! operations (if this is not clear refresh [laplace's expansion](https://en.wikipedia.org/wiki/Determinant#n_%C3%97_n_matrices))\n",
    "\n",
    "On the other hand for the Lu decomposition you need to perform  $2 n$ operations ($n$ multiplications and n aditions)  on n-1 rows to get the elements on the first column to be zeros,  then $(2n-1)$ operations on $n-2$ columns to get the zeros on the second column and so on,the total of operations is then \n",
    "\n",
    "\n",
    "$\\sum_{i=0}^{n} 2(n-i)(n-1+i)  \\approx  \\int 2n^{2} dn\\approx \\frac{2}{3} n^{3}$\n",
    "\n",
    "and the determinant of a triangular matrix is just the product of the diagonal elements, so then we need to 2 n multiplications and one addition the number of steps then scales roughly as \n",
    "\n",
    "$\\frac{4}{3} n^{4}$\n",
    "\n",
    "To get the determinant of a $n \\times n $, let us see how different the number of operations would be for n=30?"
   ]
  },
  {
   "cell_type": "code",
   "execution_count": 25,
   "id": "263ad3fa",
   "metadata": {},
   "outputs": [
    {
     "data": {
      "text/plain": [
       "ans = 1080000\n"
      ]
     },
     "metadata": {},
     "output_type": "display_data"
    }
   ],
   "source": [
    "4*(30^4)/3"
   ]
  },
  {
   "cell_type": "code",
   "execution_count": 26,
   "id": "d7c209bc",
   "metadata": {},
   "outputs": [
    {
     "data": {
      "text/plain": [
       "ans = 2.6525e+32\n"
      ]
     },
     "metadata": {},
     "output_type": "display_data"
    }
   ],
   "source": [
    "factorial(30)"
   ]
  },
  {
   "cell_type": "markdown",
   "id": "02544255",
   "metadata": {},
   "source": [
    "**Task** Produce a plot of the time it would take to compute the determinant for each approach against n (up to 100), suppose each operation takes $10^{-9}$ seconds, use days as your measure of time"
   ]
  },
  {
   "cell_type": "markdown",
   "id": "087955d6",
   "metadata": {},
   "source": [
    "We may find the product of the diagonal elements via a for loop"
   ]
  },
  {
   "cell_type": "code",
   "execution_count": 27,
   "id": "c7ca3147",
   "metadata": {},
   "outputs": [
    {
     "data": {
      "text/plain": [
       "detL = 1\n"
      ]
     },
     "metadata": {},
     "output_type": "display_data"
    }
   ],
   "source": [
    "detL=1;\n",
    "for i=1:size(L)(1);\n",
    "    detL*=L(i,i);\n",
    "end\n",
    "detL"
   ]
  },
  {
   "cell_type": "markdown",
   "id": "1ccacfc8",
   "metadata": {},
   "source": [
    "**Task** Find the determinant of det(A) using the LU decomposition (without using the built in function det()) later compare with the result from det"
   ]
  },
  {
   "cell_type": "markdown",
   "id": "2fb9d9bc",
   "metadata": {},
   "source": [
    "The other main application of the LU decomposition is solving linear systems. To see how let us follow our example\n",
    "\n",
    "![image](images/lu_linear.png)\n",
    "\n",
    "As we can see once we have LU decomposition everything reduces to forward and backward substitution, below we can find an implementation for forward substitution"
   ]
  },
  {
   "cell_type": "code",
   "execution_count": 28,
   "id": "e633f4a7-36df-4039-9e81-37951095384c",
   "metadata": {},
   "outputs": [],
   "source": [
    "function x = forward(L,x)\n",
    "% FORWARD. Forward elimination.\n",
    "% For lower triangular L, x = forward(L,b) solves L*x = b\n",
    "n= size(L)(1);\n",
    "for k = 1:n\n",
    "j = 1:k-1; \n",
    "x(k) = (x(k) - L(k,j)*x(j))/L(k,k); # We always divide by the diagonal on the kth row-> so we have y=a and not by=a\n",
    "end\n",
    "end"
   ]
  },
  {
   "cell_type": "code",
   "execution_count": 29,
   "id": "03ba7cf2-38aa-4657-b6c6-15aa5ab284c7",
   "metadata": {},
   "outputs": [
    {
     "data": {
      "text/latex": [
       "$$ ans = \\begin{bmatrix} 4 \\\\ 6 \\\\ -13 \\end{bmatrix}$$"
      ],
      "text/plain": [
       "ans =     4\n",
       "    6\n",
       "  -13\n"
      ]
     },
     "metadata": {},
     "output_type": "display_data"
    }
   ],
   "source": [
    "forward(L,[4;6;0])"
   ]
  },
  {
   "cell_type": "markdown",
   "id": "7340d245",
   "metadata": {},
   "source": [
    "**Task** Implement an algorithm that does the backward substitution, use it to finish solving the linear system  (step 2)"
   ]
  },
  {
   "cell_type": "code",
   "execution_count": 30,
   "id": "33ea71b2-6e75-4e1b-a620-df088f5204b3",
   "metadata": {},
   "outputs": [],
   "source": [
    "function x = backward(U,b)\n",
    "\n",
    "end"
   ]
  },
  {
   "cell_type": "code",
   "execution_count": 31,
   "id": "2683e636-8cc7-4f66-b222-e56e8533ef70",
   "metadata": {},
   "outputs": [
    {
     "data": {
      "text/latex": [
       "$$ ans = \\begin{bmatrix} 5.66667 & 5.66667 & -4.33333 \\end{bmatrix}$$"
      ],
      "text/plain": [
       "ans =    5.6667   5.6667  -4.3333\n"
      ]
     },
     "metadata": {},
     "output_type": "display_data"
    }
   ],
   "source": [
    "backward(U,[4;6;-13])"
   ]
  },
  {
   "cell_type": "markdown",
   "id": "b9c91b1e",
   "metadata": {},
   "source": [
    "**Task**: dolittle's algorithm is a way of implementing the LU decomposition and it's often the algoritm used by libraries the basic idea is that the elements of the U matrix are given by:\n",
    "\n",
    "\\begin{align*}\n",
    "\\forall j \\\\\n",
    "for \\hspace{0.1cm} i=0 \\rightarrow U_{ij}=A_{ij} \\\\\n",
    "for \\hspace{0.1cm} i>0 \\rightarrow U_{ij}=A_{ij}-\\sum_{k=0}^{i-1} L_{ik} U_{kj} \\\\\n",
    "\\forall i \\\\\n",
    "for \\hspace{0.1cm} j=0 \\rightarrow L_{ij}=\\frac{A_{ij}}{U_{ij}} \\\\\n",
    "for \\hspace{0.1cm} j>0 \\rightarrow L_{ij}=\\frac{A_{ij}}{U_{ij}}-\\sum_{k=0}^{j-1} L_{ik} U_{kj} \\\\\n",
    "\\end{align*}\n",
    "\n",
    "Complete the template below to obtain a function that gives the LU decomposition, or implement your own"
   ]
  },
  {
   "cell_type": "code",
   "execution_count": 32,
   "id": "e295e603-7022-4b08-850d-8020c2e0fa2d",
   "metadata": {},
   "outputs": [],
   "source": [
    "function [lower,upper]=dolittle(A)\n",
    "n=size(A)(1);\n",
    "lower=zeros(n,n);\n",
    "upper=eye(n,n); # Identity matrix\n",
    "for i=1:n\n",
    "    for k=i:n\n",
    "    suma1=0;\n",
    "    suma2=0;\n",
    "        for j=1:i\n",
    "        suma1= #sum for i>0\n",
    "        suma2= # sum for j>0\n",
    "        end\n",
    "    upper(i,k)=;#U_{ij} for i>0\n",
    "    lower(k,i)=; #L_{ij} for j>0\n",
    "    end\n",
    "end\n",
    "end"
   ]
  },
  {
   "cell_type": "code",
   "execution_count": 33,
   "id": "dba8ed04-36c4-44c0-94cc-2da212739de7",
   "metadata": {},
   "outputs": [
    {
     "data": {
      "text/latex": [
       "$$ l = \\begin{bmatrix} 1 & 0 & 0 \\\\ 0 & 1 & 0 \\\\ 1 & 1.5 & 1 \\end{bmatrix}$$"
      ],
      "text/plain": [
       "l =    1.0000        0        0\n",
       "        0   1.0000        0\n",
       "   1.0000   1.5000   1.0000\n"
      ]
     },
     "metadata": {},
     "output_type": "display_data"
    },
    {
     "data": {
      "text/latex": [
       "$$ u = \\begin{bmatrix} 1 & 2 & 3 \\\\ 0 & -2 & -4 \\\\ 0 & 0 & 3 \\end{bmatrix}$$"
      ],
      "text/plain": [
       "u =    1   2   3\n",
       "   0  -2  -4\n",
       "   0   0   3\n"
      ]
     },
     "metadata": {},
     "output_type": "display_data"
    }
   ],
   "source": [
    "[l,u]=dolittle(A)"
   ]
  },
  {
   "cell_type": "code",
   "execution_count": 34,
   "id": "93147d88-2a19-45a4-a0d8-4dd88779182b",
   "metadata": {},
   "outputs": [
    {
     "data": {
      "text/latex": [
       "$$ ans = \\begin{bmatrix} 1 & 2 & 3 \\\\ 0 & -2 & -4 \\\\ 1 & -1 & 0 \\end{bmatrix}$$"
      ],
      "text/plain": [
       "ans =    1   2   3\n",
       "   0  -2  -4\n",
       "   1  -1   0\n"
      ]
     },
     "metadata": {},
     "output_type": "display_data"
    }
   ],
   "source": [
    "l*u"
   ]
  },
  {
   "cell_type": "markdown",
   "id": "422365b9",
   "metadata": {},
   "source": [
    "**PD**: The LU decomposition is not unique and octave's built in function uses permutation matrices which we did not cover, in this case LU=PA (If you just ask for two outputs it will multiply $P^{-1}L$)"
   ]
  },
  {
   "cell_type": "code",
   "execution_count": 35,
   "id": "f8c1a439",
   "metadata": {},
   "outputs": [
    {
     "data": {
      "text/latex": [
       "$$ l = \\begin{bmatrix} 1 & 0 & 0 \\\\ 1 & 1 & 0 \\\\ 0 & 0.666667 & 1 \\end{bmatrix}$$"
      ],
      "text/plain": [
       "l =    1.0000        0        0\n",
       "   1.0000   1.0000        0\n",
       "        0   0.6667   1.0000\n"
      ]
     },
     "metadata": {},
     "output_type": "display_data"
    },
    {
     "data": {
      "text/latex": [
       "$$ u = \\begin{bmatrix} 1 & 2 & 3 \\\\ 0 & -3 & -3 \\\\ 0 & 0 & -2 \\end{bmatrix}$$"
      ],
      "text/plain": [
       "u =    1   2   3\n",
       "   0  -3  -3\n",
       "   0   0  -2\n"
      ]
     },
     "metadata": {},
     "output_type": "display_data"
    },
    {
     "data": {
      "text/plain": [
       "p = Permutation Matrix\n",
       "\n",
       "   1   0   0\n",
       "   0   0   1\n",
       "   0   1   0\n"
      ]
     },
     "metadata": {},
     "output_type": "display_data"
    }
   ],
   "source": [
    "[l,u,p]=lu(A)"
   ]
  },
  {
   "cell_type": "code",
   "execution_count": 36,
   "id": "88895f81",
   "metadata": {},
   "outputs": [
    {
     "data": {
      "text/latex": [
       "$$ ans = \\begin{bmatrix} 1 & 2 & 3 \\\\ 1 & -1 & 0 \\\\ 0 & -2 & -4 \\end{bmatrix}$$"
      ],
      "text/plain": [
       "ans =    1   2   3\n",
       "   1  -1   0\n",
       "   0  -2  -4\n"
      ]
     },
     "metadata": {},
     "output_type": "display_data"
    }
   ],
   "source": [
    "l*u"
   ]
  },
  {
   "cell_type": "code",
   "execution_count": 37,
   "id": "69e170da",
   "metadata": {
    "scrolled": true
   },
   "outputs": [
    {
     "data": {
      "text/latex": [
       "$$ ans = \\begin{bmatrix} 1 & 2 & 3 \\\\ 1 & -1 & 0 \\\\ 0 & -2 & -4 \\end{bmatrix}$$"
      ],
      "text/plain": [
       "ans =    1   2   3\n",
       "   1  -1   0\n",
       "   0  -2  -4\n"
      ]
     },
     "metadata": {},
     "output_type": "display_data"
    }
   ],
   "source": [
    "p*A"
   ]
  },
  {
   "cell_type": "markdown",
   "id": "8f2dc65c",
   "metadata": {},
   "source": [
    "## Inverse using LU"
   ]
  },
  {
   "cell_type": "markdown",
   "id": "4d1d6fac",
   "metadata": {},
   "source": [
    "To find the inverse of a matrix using the LU decomposition is not different from solving a linear system using it, to see why let us do a little rewriting:\n",
    "\n",
    "\\begin{align*}\n",
    "A=LU \\rightarrow LUA^{-1}=\\mathcal{I}\n",
    "\\end{align*}\n",
    "\n",
    "Now we may break this problem into three linear systems by noting that \n",
    "\n",
    "\\begin{align*}\n",
    "\\mathcal{I}=\\begin{pmatrix} e_{1} & e_{2} & e_{3} & ... &e_{n} \\end{pmatrix}\n",
    "\\end{align*}\n",
    "\n",
    "Where $e_{1}=\\begin{pmatrix} 1 \\\\ 0 \\\\0 \\\\ \\vdots \\\\ 0\\end{pmatrix}$,$e_{2}=\\begin{pmatrix} 0 \\\\ 1 \\\\ 0\\\\\\vdots \\\\ 0\\end{pmatrix}$,...,$e_{n}=\\begin{pmatrix} 0 \\\\ 0 \\\\ 0 \\\\ \\vdots \\\\ 1\\end{pmatrix}$\n",
    "\n",
    "So that if $A^{-1}_{i}$ are each of the columns of the inverse matrix then we need to solve the systems:\n",
    "\n",
    "\\begin{align*}\n",
    "LUA_{1}^{-1}=e_{1}\\\\\n",
    "LUA_{2}^{-1}=e_{2}\\\\\n",
    "\\vdots \\\\\n",
    "LUA_{n}^{-n}=e_{n}\n",
    "\\end{align*}\n",
    "\n",
    "We finally join the A_{i}^{-1} and obtain the inverse matrix, let us illustrate that with our example"
   ]
  },
  {
   "cell_type": "markdown",
   "id": "3c5dabc6",
   "metadata": {},
   "source": [
    "**We start with $LUA_{1}^{-1}=e_{1}$**"
   ]
  },
  {
   "cell_type": "code",
   "execution_count": 38,
   "id": "b7370cc6",
   "metadata": {},
   "outputs": [
    {
     "data": {
      "text/latex": [
       "$$ ans = \\begin{bmatrix} 1 \\\\ 0 \\\\ -1 \\end{bmatrix}$$"
      ],
      "text/plain": [
       "ans =    1\n",
       "   0\n",
       "  -1\n"
      ]
     },
     "metadata": {},
     "output_type": "display_data"
    }
   ],
   "source": [
    "forward(L,[1;0;0])"
   ]
  },
  {
   "cell_type": "code",
   "execution_count": 39,
   "id": "fa56b34c",
   "metadata": {},
   "outputs": [
    {
     "data": {
      "text/latex": [
       "$$ a1 = \\begin{bmatrix} 0.666667 & 0.666667 & -0.333333 \\end{bmatrix}$$"
      ],
      "text/plain": [
       "a1 =    0.6667   0.6667  -0.3333\n"
      ]
     },
     "metadata": {},
     "output_type": "display_data"
    }
   ],
   "source": [
    "a1=backward(U,[1;0;-1])"
   ]
  },
  {
   "cell_type": "markdown",
   "id": "d4f405d1",
   "metadata": {},
   "source": [
    "We repeat the process with the next column"
   ]
  },
  {
   "cell_type": "code",
   "execution_count": 40,
   "id": "0711c7a2",
   "metadata": {},
   "outputs": [
    {
     "data": {
      "text/latex": [
       "$$ ans = \\begin{bmatrix} 0 \\\\ 1 \\\\ -1.5 \\end{bmatrix}$$"
      ],
      "text/plain": [
       "ans =         0\n",
       "   1.0000\n",
       "  -1.5000\n"
      ]
     },
     "metadata": {},
     "output_type": "display_data"
    }
   ],
   "source": [
    "forward(L,[0;1;0])"
   ]
  },
  {
   "cell_type": "code",
   "execution_count": 41,
   "id": "a83861ae",
   "metadata": {},
   "outputs": [
    {
     "data": {
      "text/latex": [
       "$$ a2 = \\begin{bmatrix} 0.5 & 0.5 & -0.5 \\end{bmatrix}$$"
      ],
      "text/plain": [
       "a2 =    0.5000   0.5000  -0.5000\n"
      ]
     },
     "metadata": {},
     "output_type": "display_data"
    }
   ],
   "source": [
    "a2=backward(U,[0;1;-1.5])"
   ]
  },
  {
   "cell_type": "markdown",
   "id": "f2821132",
   "metadata": {},
   "source": [
    "and finally we do this for the last column"
   ]
  },
  {
   "cell_type": "code",
   "execution_count": 42,
   "id": "e1a6e5fc",
   "metadata": {},
   "outputs": [
    {
     "data": {
      "text/latex": [
       "$$ ans = \\begin{bmatrix} 0 \\\\ 0 \\\\ 1 \\end{bmatrix}$$"
      ],
      "text/plain": [
       "ans =    0\n",
       "   0\n",
       "   1\n"
      ]
     },
     "metadata": {},
     "output_type": "display_data"
    }
   ],
   "source": [
    "forward(L,[0;0;1])"
   ]
  },
  {
   "cell_type": "code",
   "execution_count": 43,
   "id": "a43b2a4c",
   "metadata": {},
   "outputs": [
    {
     "data": {
      "text/latex": [
       "$$ a3 = \\begin{bmatrix} 0.333333 & -0.666667 & 0.333333 \\end{bmatrix}$$"
      ],
      "text/plain": [
       "a3 =    0.3333  -0.6667   0.3333\n"
      ]
     },
     "metadata": {},
     "output_type": "display_data"
    }
   ],
   "source": [
    "a3=backward(U,[0;0;1])"
   ]
  },
  {
   "cell_type": "markdown",
   "id": "e3576dda",
   "metadata": {},
   "source": [
    "Finally we join the results"
   ]
  },
  {
   "cell_type": "code",
   "execution_count": 44,
   "id": "d0af494e",
   "metadata": {},
   "outputs": [
    {
     "data": {
      "text/latex": [
       "$$ inverse = \\begin{bmatrix} 0.666667 & 0.5 & 0.333333 \\\\ 0.666667 & 0.5 & -0.666667 \\\\ -0.333333 & -0.5 & 0.333333 \\end{bmatrix}$$"
      ],
      "text/plain": [
       "inverse =    0.6667   0.5000   0.3333\n",
       "   0.6667   0.5000  -0.6667\n",
       "  -0.3333  -0.5000   0.3333\n"
      ]
     },
     "metadata": {},
     "output_type": "display_data"
    }
   ],
   "source": [
    "inverse=[a1;a2;a3]'"
   ]
  },
  {
   "cell_type": "code",
   "execution_count": 45,
   "id": "76a76f70",
   "metadata": {},
   "outputs": [
    {
     "data": {
      "text/latex": [
       "$$ ans = \\begin{bmatrix} 1 & 0 & -5.55112\\mathrm{ᴇ\\text{-}}{17} \\\\ 0 & 1 & 0 \\\\ 1.11022\\mathrm{ᴇ\\text{-}}{16} & 0 & 1 \\end{bmatrix}$$"
      ],
      "text/plain": [
       "ans =    1.0000        0  -0.0000\n",
       "        0   1.0000        0\n",
       "   0.0000        0   1.0000\n"
      ]
     },
     "metadata": {},
     "output_type": "display_data"
    }
   ],
   "source": [
    "A*inverse"
   ]
  },
  {
   "cell_type": "markdown",
   "id": "d5bf05fd",
   "metadata": {},
   "source": [
    "**Task** Using the functions in this notebook (no built in libraries) create a function that finds the inverse of a matrix using the LU decomposition, test it on the little system with fruits from one of the previous tasks"
   ]
  }
 ],
 "metadata": {
  "kernelspec": {
   "display_name": "Octave (xoctave)",
   "language": "Octave",
   "name": "xoctave"
  },
  "language_info": {
   "codemirror_mode": "octave",
   "file_extension": ".m",
   "mimetype": "text/x-octave",
   "name": "Octave",
   "pygments_lexer": "octave",
   "version": "7.2.0"
  }
 },
 "nbformat": 4,
 "nbformat_minor": 5
}
